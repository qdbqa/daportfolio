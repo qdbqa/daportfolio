{
 "cells": [
  {
   "cell_type": "markdown",
   "metadata": {},
   "source": [
    "# Analyzing Meteorite Landings\n",
    "\n",
    "The dataset used includes over 45,000 known meteorite landings in recorded history (up to 2013) as collected by The Meteoritical Society and can be found [here](https://datarepository.wolframcloud.com/resources/Meteorite-Landings). \n",
    "\n",
    "For each meteorite landing, it includes the name and type of each object, the location of its discovery, whether it was discovered falling ('Fell') or already on the Earth ('Found'), and the condition of the meteorite as 'Valid' (for most meteorites) or 'Relict' (for objects that were once meteorites but are now highly altered by weathering on Earth)."
   ]
  },
  {
   "cell_type": "code",
   "execution_count": 1,
   "metadata": {},
   "outputs": [
    {
     "data": {
      "text/html": [
       "<div>\n",
       "<style scoped>\n",
       "    .dataframe tbody tr th:only-of-type {\n",
       "        vertical-align: middle;\n",
       "    }\n",
       "\n",
       "    .dataframe tbody tr th {\n",
       "        vertical-align: top;\n",
       "    }\n",
       "\n",
       "    .dataframe thead th {\n",
       "        text-align: right;\n",
       "    }\n",
       "</style>\n",
       "<table border=\"1\" class=\"dataframe\">\n",
       "  <thead>\n",
       "    <tr style=\"text-align: right;\">\n",
       "      <th></th>\n",
       "      <th>Name</th>\n",
       "      <th>ID</th>\n",
       "      <th>NameType</th>\n",
       "      <th>Classification</th>\n",
       "      <th>Mass</th>\n",
       "      <th>Fall</th>\n",
       "      <th>Year</th>\n",
       "      <th>Coordinates</th>\n",
       "    </tr>\n",
       "  </thead>\n",
       "  <tbody>\n",
       "    <tr>\n",
       "      <th>0</th>\n",
       "      <td>Aachen</td>\n",
       "      <td>1</td>\n",
       "      <td>Valid</td>\n",
       "      <td>L5</td>\n",
       "      <td>Quantity[21, \"Grams\"]</td>\n",
       "      <td>Fell</td>\n",
       "      <td>DateObject[{1880}, \"Year\", \"Gregorian\", -5.]</td>\n",
       "      <td>GeoPosition[{50.775, 6.08333}]</td>\n",
       "    </tr>\n",
       "    <tr>\n",
       "      <th>1</th>\n",
       "      <td>Aarhus</td>\n",
       "      <td>2</td>\n",
       "      <td>Valid</td>\n",
       "      <td>H6</td>\n",
       "      <td>Quantity[720, \"Grams\"]</td>\n",
       "      <td>Fell</td>\n",
       "      <td>DateObject[{1951}, \"Year\", \"Gregorian\", -5.]</td>\n",
       "      <td>GeoPosition[{56.18333, 10.23333}]</td>\n",
       "    </tr>\n",
       "    <tr>\n",
       "      <th>2</th>\n",
       "      <td>Abee</td>\n",
       "      <td>6</td>\n",
       "      <td>Valid</td>\n",
       "      <td>EH4</td>\n",
       "      <td>Quantity[107000, \"Grams\"]</td>\n",
       "      <td>Fell</td>\n",
       "      <td>DateObject[{1952}, \"Year\", \"Gregorian\", -5.]</td>\n",
       "      <td>GeoPosition[{54.21667, -113.}]</td>\n",
       "    </tr>\n",
       "    <tr>\n",
       "      <th>3</th>\n",
       "      <td>Acapulco</td>\n",
       "      <td>10</td>\n",
       "      <td>Valid</td>\n",
       "      <td>Acapulcoite</td>\n",
       "      <td>Quantity[1914, \"Grams\"]</td>\n",
       "      <td>Fell</td>\n",
       "      <td>DateObject[{1976}, \"Year\", \"Gregorian\", -5.]</td>\n",
       "      <td>GeoPosition[{16.88333, -99.9}]</td>\n",
       "    </tr>\n",
       "    <tr>\n",
       "      <th>4</th>\n",
       "      <td>Achiras</td>\n",
       "      <td>370</td>\n",
       "      <td>Valid</td>\n",
       "      <td>L6</td>\n",
       "      <td>Quantity[780, \"Grams\"]</td>\n",
       "      <td>Fell</td>\n",
       "      <td>DateObject[{1902}, \"Year\", \"Gregorian\", -5.]</td>\n",
       "      <td>GeoPosition[{-33.16667, -64.95}]</td>\n",
       "    </tr>\n",
       "    <tr>\n",
       "      <th>...</th>\n",
       "      <td>...</td>\n",
       "      <td>...</td>\n",
       "      <td>...</td>\n",
       "      <td>...</td>\n",
       "      <td>...</td>\n",
       "      <td>...</td>\n",
       "      <td>...</td>\n",
       "      <td>...</td>\n",
       "    </tr>\n",
       "    <tr>\n",
       "      <th>45711</th>\n",
       "      <td>Zillah 002</td>\n",
       "      <td>31356</td>\n",
       "      <td>Valid</td>\n",
       "      <td>Eucrite</td>\n",
       "      <td>Quantity[172, \"Grams\"]</td>\n",
       "      <td>Found</td>\n",
       "      <td>DateObject[{1990}, \"Year\", \"Gregorian\", -5.]</td>\n",
       "      <td>GeoPosition[{29.037, 17.0185}]</td>\n",
       "    </tr>\n",
       "    <tr>\n",
       "      <th>45712</th>\n",
       "      <td>Zinder</td>\n",
       "      <td>30409</td>\n",
       "      <td>Valid</td>\n",
       "      <td>Pallasite, ungrouped</td>\n",
       "      <td>Quantity[46, \"Grams\"]</td>\n",
       "      <td>Found</td>\n",
       "      <td>DateObject[{1999}, \"Year\", \"Gregorian\", -5.]</td>\n",
       "      <td>GeoPosition[{13.78333, 8.96667}]</td>\n",
       "    </tr>\n",
       "    <tr>\n",
       "      <th>45713</th>\n",
       "      <td>Zlin</td>\n",
       "      <td>30410</td>\n",
       "      <td>Valid</td>\n",
       "      <td>H4</td>\n",
       "      <td>Quantity[3.3, \"Grams\"]</td>\n",
       "      <td>Found</td>\n",
       "      <td>DateObject[{1939}, \"Year\", \"Gregorian\", -5.]</td>\n",
       "      <td>GeoPosition[{49.25, 17.66667}]</td>\n",
       "    </tr>\n",
       "    <tr>\n",
       "      <th>45714</th>\n",
       "      <td>Zubkovsky</td>\n",
       "      <td>31357</td>\n",
       "      <td>Valid</td>\n",
       "      <td>L6</td>\n",
       "      <td>Quantity[2167, \"Grams\"]</td>\n",
       "      <td>Found</td>\n",
       "      <td>DateObject[{2003}, \"Year\", \"Gregorian\", -5.]</td>\n",
       "      <td>GeoPosition[{49.78917, 41.5046}]</td>\n",
       "    </tr>\n",
       "    <tr>\n",
       "      <th>45715</th>\n",
       "      <td>Zulu Queen</td>\n",
       "      <td>30414</td>\n",
       "      <td>Valid</td>\n",
       "      <td>L3.7</td>\n",
       "      <td>Quantity[200, \"Grams\"]</td>\n",
       "      <td>Found</td>\n",
       "      <td>DateObject[{1976}, \"Year\", \"Gregorian\", -5.]</td>\n",
       "      <td>GeoPosition[{33.98333, -115.68333}]</td>\n",
       "    </tr>\n",
       "  </tbody>\n",
       "</table>\n",
       "<p>45716 rows × 8 columns</p>\n",
       "</div>"
      ],
      "text/plain": [
       "             Name     ID NameType        Classification  \\\n",
       "0          Aachen      1    Valid                    L5   \n",
       "1          Aarhus      2    Valid                    H6   \n",
       "2            Abee      6    Valid                   EH4   \n",
       "3        Acapulco     10    Valid           Acapulcoite   \n",
       "4         Achiras    370    Valid                    L6   \n",
       "...           ...    ...      ...                   ...   \n",
       "45711  Zillah 002  31356    Valid               Eucrite   \n",
       "45712      Zinder  30409    Valid  Pallasite, ungrouped   \n",
       "45713        Zlin  30410    Valid                    H4   \n",
       "45714   Zubkovsky  31357    Valid                    L6   \n",
       "45715  Zulu Queen  30414    Valid                  L3.7   \n",
       "\n",
       "                            Mass   Fall  \\\n",
       "0          Quantity[21, \"Grams\"]   Fell   \n",
       "1         Quantity[720, \"Grams\"]   Fell   \n",
       "2      Quantity[107000, \"Grams\"]   Fell   \n",
       "3        Quantity[1914, \"Grams\"]   Fell   \n",
       "4         Quantity[780, \"Grams\"]   Fell   \n",
       "...                          ...    ...   \n",
       "45711     Quantity[172, \"Grams\"]  Found   \n",
       "45712      Quantity[46, \"Grams\"]  Found   \n",
       "45713     Quantity[3.3, \"Grams\"]  Found   \n",
       "45714    Quantity[2167, \"Grams\"]  Found   \n",
       "45715     Quantity[200, \"Grams\"]  Found   \n",
       "\n",
       "                                               Year  \\\n",
       "0      DateObject[{1880}, \"Year\", \"Gregorian\", -5.]   \n",
       "1      DateObject[{1951}, \"Year\", \"Gregorian\", -5.]   \n",
       "2      DateObject[{1952}, \"Year\", \"Gregorian\", -5.]   \n",
       "3      DateObject[{1976}, \"Year\", \"Gregorian\", -5.]   \n",
       "4      DateObject[{1902}, \"Year\", \"Gregorian\", -5.]   \n",
       "...                                             ...   \n",
       "45711  DateObject[{1990}, \"Year\", \"Gregorian\", -5.]   \n",
       "45712  DateObject[{1999}, \"Year\", \"Gregorian\", -5.]   \n",
       "45713  DateObject[{1939}, \"Year\", \"Gregorian\", -5.]   \n",
       "45714  DateObject[{2003}, \"Year\", \"Gregorian\", -5.]   \n",
       "45715  DateObject[{1976}, \"Year\", \"Gregorian\", -5.]   \n",
       "\n",
       "                               Coordinates  \n",
       "0           GeoPosition[{50.775, 6.08333}]  \n",
       "1        GeoPosition[{56.18333, 10.23333}]  \n",
       "2           GeoPosition[{54.21667, -113.}]  \n",
       "3           GeoPosition[{16.88333, -99.9}]  \n",
       "4         GeoPosition[{-33.16667, -64.95}]  \n",
       "...                                    ...  \n",
       "45711       GeoPosition[{29.037, 17.0185}]  \n",
       "45712     GeoPosition[{13.78333, 8.96667}]  \n",
       "45713       GeoPosition[{49.25, 17.66667}]  \n",
       "45714     GeoPosition[{49.78917, 41.5046}]  \n",
       "45715  GeoPosition[{33.98333, -115.68333}]  \n",
       "\n",
       "[45716 rows x 8 columns]"
      ]
     },
     "execution_count": 1,
     "metadata": {},
     "output_type": "execute_result"
    }
   ],
   "source": [
    "import pandas as pd\n",
    "meteorites = pd.read_csv(\"Meteorite-Landings.csv\")\n",
    "meteorites"
   ]
  },
  {
   "cell_type": "markdown",
   "metadata": {},
   "source": [
    "Looking at the data, condition of the meteorite is under the colum `NameType`. There is also a `Classification` column with the meteorite class. `Mass`, `Year` and `Coordinates` columns have to be cleaned before the analysis. "
   ]
  },
  {
   "cell_type": "code",
   "execution_count": 2,
   "metadata": {},
   "outputs": [
    {
     "name": "stdout",
     "output_type": "stream",
     "text": [
      "<class 'pandas.core.frame.DataFrame'>\n",
      "RangeIndex: 45716 entries, 0 to 45715\n",
      "Data columns (total 8 columns):\n",
      " #   Column          Non-Null Count  Dtype \n",
      "---  ------          --------------  ----- \n",
      " 0   Name            45716 non-null  object\n",
      " 1   ID              45716 non-null  int64 \n",
      " 2   NameType        45716 non-null  object\n",
      " 3   Classification  45716 non-null  object\n",
      " 4   Mass            45716 non-null  object\n",
      " 5   Fall            45716 non-null  object\n",
      " 6   Year            45716 non-null  object\n",
      " 7   Coordinates     45716 non-null  object\n",
      "dtypes: int64(1), object(7)\n",
      "memory usage: 2.8+ MB\n"
     ]
    }
   ],
   "source": [
    "meteorites.info()"
   ]
  },
  {
   "cell_type": "markdown",
   "metadata": {},
   "source": [
    "The only column with integer data type is `ID`. Also there is an entry for every row and column, but we will take a closer look in next steps."
   ]
  },
  {
   "cell_type": "code",
   "execution_count": 3,
   "metadata": {},
   "outputs": [
    {
     "name": "stdout",
     "output_type": "stream",
     "text": [
      "Unique values in Name column: 45716\n",
      "Unique values in ID column: 45716\n",
      "Unique values in NameType column: 2\n",
      "Unique values in Classification column: 466\n",
      "Unique values in Mass column: 12577\n",
      "Unique values in Fall column: 2\n",
      "Unique values in Year column: 265\n",
      "Unique values in Coordinates column: 17100\n"
     ]
    }
   ],
   "source": [
    "for col in meteorites.columns:\n",
    "    print(\"Unique values in\", col, \"column:\", len(meteorites[col].value_counts()))"
   ]
  },
  {
   "cell_type": "markdown",
   "metadata": {},
   "source": [
    "## Cleaning the data"
   ]
  },
  {
   "cell_type": "markdown",
   "metadata": {},
   "source": [
    "#### Mass column"
   ]
  },
  {
   "cell_type": "code",
   "execution_count": 4,
   "metadata": {},
   "outputs": [
    {
     "data": {
      "text/plain": [
       "Quantity[1.3, \"Grams\"]       171\n",
       "Quantity[1.2, \"Grams\"]       140\n",
       "Quantity[1.4, \"Grams\"]       138\n",
       "Missing[\"NotAvailable\"]      131\n",
       "Quantity[2.1, \"Grams\"]       130\n",
       "                            ... \n",
       "Quantity[38.32, \"Grams\"]       1\n",
       "Quantity[32.34, \"Grams\"]       1\n",
       "Quantity[26.01, \"Grams\"]       1\n",
       "Quantity[385.28, \"Grams\"]      1\n",
       "Quantity[2167, \"Grams\"]        1\n",
       "Name: Mass, Length: 12577, dtype: int64"
      ]
     },
     "execution_count": 4,
     "metadata": {},
     "output_type": "execute_result"
    }
   ],
   "source": [
    "meteorites['Mass'].value_counts()"
   ]
  },
  {
   "cell_type": "markdown",
   "metadata": {},
   "source": [
    "We want `Mass` column as a numeric value. The units are grams. The value `Missing[\"NotAvailable\"]` is present, so there are missing values in `Mass` column."
   ]
  },
  {
   "cell_type": "code",
   "execution_count": 5,
   "metadata": {},
   "outputs": [
    {
     "data": {
      "text/plain": [
       "0            21\n",
       "1           720\n",
       "2        107000\n",
       "3          1914\n",
       "4           780\n",
       "          ...  \n",
       "45711       172\n",
       "45712        46\n",
       "45713       3.3\n",
       "45714      2167\n",
       "45715       200\n",
       "Name: Mass, Length: 45716, dtype: object"
      ]
     },
     "execution_count": 5,
     "metadata": {},
     "output_type": "execute_result"
    }
   ],
   "source": [
    "mass = meteorites['Mass'].str.strip('Quantity[')\n",
    "mass = mass.str.strip(', \"Grams\"]')\n",
    "mass"
   ]
  },
  {
   "cell_type": "code",
   "execution_count": 6,
   "metadata": {},
   "outputs": [
    {
     "data": {
      "text/plain": [
       "1.3                      171\n",
       "1.2                      140\n",
       "1.4                      138\n",
       "Missing[\"NotAvailable    131\n",
       "2.1                      130\n",
       "                        ... \n",
       "38.32                      1\n",
       "32.34                      1\n",
       "26.01                      1\n",
       "385.28                     1\n",
       "2167                       1\n",
       "Name: Mass, Length: 12577, dtype: int64"
      ]
     },
     "execution_count": 6,
     "metadata": {},
     "output_type": "execute_result"
    }
   ],
   "source": [
    "mass.value_counts()"
   ]
  },
  {
   "cell_type": "markdown",
   "metadata": {},
   "source": [
    "#### Year column"
   ]
  },
  {
   "cell_type": "code",
   "execution_count": 7,
   "metadata": {},
   "outputs": [
    {
     "data": {
      "text/plain": [
       "DateObject[{2003}, \"Year\", \"Gregorian\", -5.]    3323\n",
       "DateObject[{1979}, \"Year\", \"Gregorian\", -5.]    3046\n",
       "DateObject[{1998}, \"Year\", \"Gregorian\", -5.]    2697\n",
       "DateObject[{2006}, \"Year\", \"Gregorian\", -5.]    2456\n",
       "DateObject[{1988}, \"Year\", \"Gregorian\", -5.]    2296\n",
       "                                                ... \n",
       "DateObject[{1519}, \"Year\", \"Gregorian\", -5.]       1\n",
       "DateObject[{1671}, \"Year\", \"Gregorian\", -5.]       1\n",
       "DateObject[{1833}, \"Year\", \"Gregorian\", -5.]       1\n",
       "DateObject[{1779}, \"Year\", \"Gregorian\", -5.]       1\n",
       "DateObject[{1792}, \"Year\", \"Gregorian\", -5.]       1\n",
       "Name: Year, Length: 265, dtype: int64"
      ]
     },
     "execution_count": 7,
     "metadata": {},
     "output_type": "execute_result"
    }
   ],
   "source": [
    "meteorites['Year'].value_counts()"
   ]
  },
  {
   "cell_type": "markdown",
   "metadata": {},
   "source": [
    "To clean the column and get only the year number:"
   ]
  },
  {
   "cell_type": "code",
   "execution_count": 8,
   "metadata": {},
   "outputs": [
    {
     "data": {
      "text/plain": [
       "0        1880\n",
       "1        1951\n",
       "2        1952\n",
       "3        1976\n",
       "4        1902\n",
       "         ... \n",
       "45711    1990\n",
       "45712    1999\n",
       "45713    1939\n",
       "45714    2003\n",
       "45715    1976\n",
       "Name: Year, Length: 45716, dtype: object"
      ]
     },
     "execution_count": 8,
     "metadata": {},
     "output_type": "execute_result"
    }
   ],
   "source": [
    "year = meteorites['Year'].str.strip(\"DateObject\\[{\")\n",
    "year = year.str.strip(\"\\-5\\.\\]\")\n",
    "year = year.str.strip(\" \\\"Gregorian\\\",\")\n",
    "year = year.str.strip(\"\\\"Y\")\n",
    "year = year.str.strip(\"}, \")\n",
    "year"
   ]
  },
  {
   "cell_type": "markdown",
   "metadata": {},
   "source": [
    "Let's try to search for entries containing \"Missing\":"
   ]
  },
  {
   "cell_type": "code",
   "execution_count": 9,
   "metadata": {},
   "outputs": [
    {
     "data": {
      "text/plain": [
       "292"
      ]
     },
     "execution_count": 9,
     "metadata": {},
     "output_type": "execute_result"
    }
   ],
   "source": [
    "year.str.contains('Missing').sum()"
   ]
  },
  {
   "cell_type": "markdown",
   "metadata": {},
   "source": [
    "There are missing values in the `Year` column also."
   ]
  },
  {
   "cell_type": "markdown",
   "metadata": {},
   "source": [
    "#### Coordinates column"
   ]
  },
  {
   "cell_type": "code",
   "execution_count": 10,
   "metadata": {},
   "outputs": [
    {
     "data": {
      "text/plain": [
       "Missing[\"NotAvailable\"]                13529\n",
       "GeoPosition[{-71.5, 35.66667}]          4761\n",
       "GeoPosition[{-84., 168.}]               3040\n",
       "GeoPosition[{-72., 26.}]                1505\n",
       "GeoPosition[{-79.68333, 159.75}]         657\n",
       "                                       ...  \n",
       "GeoPosition[{-76.30361, 157.17611}]        1\n",
       "GeoPosition[{-76.28611, 157.23972}]        1\n",
       "GeoPosition[{-76.31889, 157.265}]          1\n",
       "GeoPosition[{-76.28722, 157.19333}]        1\n",
       "GeoPosition[{33.98333, -115.68333}]        1\n",
       "Name: Coordinates, Length: 17100, dtype: int64"
      ]
     },
     "execution_count": 10,
     "metadata": {},
     "output_type": "execute_result"
    }
   ],
   "source": [
    "meteorites['Coordinates'].value_counts()"
   ]
  },
  {
   "cell_type": "markdown",
   "metadata": {},
   "source": [
    "Once again we see the missing values in the `Coordinates` column.\n",
    "\n",
    "To get the coordinates we can use for visualization, we will clean the column and then separate latitude and longitude."
   ]
  },
  {
   "cell_type": "code",
   "execution_count": 11,
   "metadata": {},
   "outputs": [],
   "source": [
    "coordinates = meteorites['Coordinates'].str.strip(\"GeoPosition[{\")\n",
    "coordinates = coordinates.str.strip(\"}]\")\n",
    "coordinates[coordinates==\"Missing[\\\"NotAvailable\\\"\"] = \"NaN,NaN\"\n",
    "coordinates_list = coordinates.str.split(',')"
   ]
  },
  {
   "cell_type": "code",
   "execution_count": 12,
   "metadata": {},
   "outputs": [
    {
     "data": {
      "text/plain": [
       "0             [50.775,  6.08333]\n",
       "1          [56.18333,  10.23333]\n",
       "2            [54.21667,  -113.0]\n",
       "3             [16.88333,  -99.9]\n",
       "4           [-33.16667,  -64.95]\n",
       "                  ...           \n",
       "45711         [29.037,  17.0185]\n",
       "45712       [13.78333,  8.96667]\n",
       "45713         [49.25,  17.66667]\n",
       "45714       [49.78917,  41.5046]\n",
       "45715    [33.98333,  -115.68333]\n",
       "Name: Coordinates, Length: 45716, dtype: object"
      ]
     },
     "execution_count": 12,
     "metadata": {},
     "output_type": "execute_result"
    }
   ],
   "source": [
    "# adding a zero if there isn't one after the decimal point\n",
    "for i in coordinates_list:\n",
    "    x=i[0]\n",
    "    y=i[1]\n",
    "    if x[-1] == '.':\n",
    "        x = x + '0'\n",
    "        i[0] = x\n",
    "    if y[-1] == '.':\n",
    "        y = y + '0'\n",
    "        i[1] = y\n",
    "coordinates_list"
   ]
  },
  {
   "cell_type": "code",
   "execution_count": 13,
   "metadata": {},
   "outputs": [
    {
     "name": "stdout",
     "output_type": "stream",
     "text": [
      "['50.775', '56.18333', '54.21667', '16.88333', '-33.16667']\n",
      "[' 6.08333', ' 10.23333', ' -113.0', ' -99.9', ' -64.95']\n"
     ]
    }
   ],
   "source": [
    "# latitude and longitude as separate lists\n",
    "X=[]\n",
    "Y=[]\n",
    "for i in coordinates_list:\n",
    "    X.append(i[0])\n",
    "    Y.append(i[1])\n",
    "print(X[0:5])\n",
    "print(Y[0:5])"
   ]
  },
  {
   "cell_type": "markdown",
   "metadata": {},
   "source": [
    "#### Columns to numeric data type\n",
    "\n",
    "Finally, we can convert the cleaned columns to numeric data type. We'll use parameter `errors=\"coerce\"` so missing values will be set as NaN."
   ]
  },
  {
   "cell_type": "code",
   "execution_count": 14,
   "metadata": {},
   "outputs": [
    {
     "name": "stdout",
     "output_type": "stream",
     "text": [
      "<class 'pandas.core.frame.DataFrame'>\n",
      "RangeIndex: 45716 entries, 0 to 45715\n",
      "Data columns (total 10 columns):\n",
      " #   Column          Non-Null Count  Dtype  \n",
      "---  ------          --------------  -----  \n",
      " 0   Name            45716 non-null  object \n",
      " 1   ID              45716 non-null  int64  \n",
      " 2   NameType        45716 non-null  object \n",
      " 3   Classification  45716 non-null  object \n",
      " 4   Mass            45585 non-null  float64\n",
      " 5   Fall            45716 non-null  object \n",
      " 6   Year            45424 non-null  float64\n",
      " 7   Coordinates     45716 non-null  object \n",
      " 8   X               32187 non-null  float64\n",
      " 9   Y               32187 non-null  float64\n",
      "dtypes: float64(4), int64(1), object(5)\n",
      "memory usage: 3.5+ MB\n"
     ]
    }
   ],
   "source": [
    "meteorites['Mass'] = pd.to_numeric(mass, errors=\"coerce\")\n",
    "meteorites['Year'] = pd.to_numeric(year, errors=\"coerce\")\n",
    "meteorites['X'] = pd.to_numeric(X, errors=\"coerce\")\n",
    "meteorites['Y'] = pd.to_numeric(Y, errors=\"coerce\")\n",
    "meteorites.info()"
   ]
  },
  {
   "cell_type": "code",
   "execution_count": 15,
   "metadata": {},
   "outputs": [
    {
     "data": {
      "text/html": [
       "<div>\n",
       "<style scoped>\n",
       "    .dataframe tbody tr th:only-of-type {\n",
       "        vertical-align: middle;\n",
       "    }\n",
       "\n",
       "    .dataframe tbody tr th {\n",
       "        vertical-align: top;\n",
       "    }\n",
       "\n",
       "    .dataframe thead th {\n",
       "        text-align: right;\n",
       "    }\n",
       "</style>\n",
       "<table border=\"1\" class=\"dataframe\">\n",
       "  <thead>\n",
       "    <tr style=\"text-align: right;\">\n",
       "      <th></th>\n",
       "      <th>Name</th>\n",
       "      <th>ID</th>\n",
       "      <th>NameType</th>\n",
       "      <th>Classification</th>\n",
       "      <th>Mass</th>\n",
       "      <th>Fall</th>\n",
       "      <th>Year</th>\n",
       "      <th>Coordinates</th>\n",
       "      <th>X</th>\n",
       "      <th>Y</th>\n",
       "    </tr>\n",
       "  </thead>\n",
       "  <tbody>\n",
       "    <tr>\n",
       "      <th>0</th>\n",
       "      <td>Aachen</td>\n",
       "      <td>1</td>\n",
       "      <td>Valid</td>\n",
       "      <td>L5</td>\n",
       "      <td>21.0</td>\n",
       "      <td>Fell</td>\n",
       "      <td>1880.0</td>\n",
       "      <td>GeoPosition[{50.775, 6.08333}]</td>\n",
       "      <td>50.77500</td>\n",
       "      <td>6.08333</td>\n",
       "    </tr>\n",
       "    <tr>\n",
       "      <th>1</th>\n",
       "      <td>Aarhus</td>\n",
       "      <td>2</td>\n",
       "      <td>Valid</td>\n",
       "      <td>H6</td>\n",
       "      <td>720.0</td>\n",
       "      <td>Fell</td>\n",
       "      <td>1951.0</td>\n",
       "      <td>GeoPosition[{56.18333, 10.23333}]</td>\n",
       "      <td>56.18333</td>\n",
       "      <td>10.23333</td>\n",
       "    </tr>\n",
       "    <tr>\n",
       "      <th>2</th>\n",
       "      <td>Abee</td>\n",
       "      <td>6</td>\n",
       "      <td>Valid</td>\n",
       "      <td>EH4</td>\n",
       "      <td>107000.0</td>\n",
       "      <td>Fell</td>\n",
       "      <td>1952.0</td>\n",
       "      <td>GeoPosition[{54.21667, -113.}]</td>\n",
       "      <td>54.21667</td>\n",
       "      <td>-113.00000</td>\n",
       "    </tr>\n",
       "    <tr>\n",
       "      <th>3</th>\n",
       "      <td>Acapulco</td>\n",
       "      <td>10</td>\n",
       "      <td>Valid</td>\n",
       "      <td>Acapulcoite</td>\n",
       "      <td>1914.0</td>\n",
       "      <td>Fell</td>\n",
       "      <td>1976.0</td>\n",
       "      <td>GeoPosition[{16.88333, -99.9}]</td>\n",
       "      <td>16.88333</td>\n",
       "      <td>-99.90000</td>\n",
       "    </tr>\n",
       "    <tr>\n",
       "      <th>4</th>\n",
       "      <td>Achiras</td>\n",
       "      <td>370</td>\n",
       "      <td>Valid</td>\n",
       "      <td>L6</td>\n",
       "      <td>780.0</td>\n",
       "      <td>Fell</td>\n",
       "      <td>1902.0</td>\n",
       "      <td>GeoPosition[{-33.16667, -64.95}]</td>\n",
       "      <td>-33.16667</td>\n",
       "      <td>-64.95000</td>\n",
       "    </tr>\n",
       "    <tr>\n",
       "      <th>...</th>\n",
       "      <td>...</td>\n",
       "      <td>...</td>\n",
       "      <td>...</td>\n",
       "      <td>...</td>\n",
       "      <td>...</td>\n",
       "      <td>...</td>\n",
       "      <td>...</td>\n",
       "      <td>...</td>\n",
       "      <td>...</td>\n",
       "      <td>...</td>\n",
       "    </tr>\n",
       "    <tr>\n",
       "      <th>45711</th>\n",
       "      <td>Zillah 002</td>\n",
       "      <td>31356</td>\n",
       "      <td>Valid</td>\n",
       "      <td>Eucrite</td>\n",
       "      <td>172.0</td>\n",
       "      <td>Found</td>\n",
       "      <td>1990.0</td>\n",
       "      <td>GeoPosition[{29.037, 17.0185}]</td>\n",
       "      <td>29.03700</td>\n",
       "      <td>17.01850</td>\n",
       "    </tr>\n",
       "    <tr>\n",
       "      <th>45712</th>\n",
       "      <td>Zinder</td>\n",
       "      <td>30409</td>\n",
       "      <td>Valid</td>\n",
       "      <td>Pallasite, ungrouped</td>\n",
       "      <td>46.0</td>\n",
       "      <td>Found</td>\n",
       "      <td>1999.0</td>\n",
       "      <td>GeoPosition[{13.78333, 8.96667}]</td>\n",
       "      <td>13.78333</td>\n",
       "      <td>8.96667</td>\n",
       "    </tr>\n",
       "    <tr>\n",
       "      <th>45713</th>\n",
       "      <td>Zlin</td>\n",
       "      <td>30410</td>\n",
       "      <td>Valid</td>\n",
       "      <td>H4</td>\n",
       "      <td>3.3</td>\n",
       "      <td>Found</td>\n",
       "      <td>1939.0</td>\n",
       "      <td>GeoPosition[{49.25, 17.66667}]</td>\n",
       "      <td>49.25000</td>\n",
       "      <td>17.66667</td>\n",
       "    </tr>\n",
       "    <tr>\n",
       "      <th>45714</th>\n",
       "      <td>Zubkovsky</td>\n",
       "      <td>31357</td>\n",
       "      <td>Valid</td>\n",
       "      <td>L6</td>\n",
       "      <td>2167.0</td>\n",
       "      <td>Found</td>\n",
       "      <td>2003.0</td>\n",
       "      <td>GeoPosition[{49.78917, 41.5046}]</td>\n",
       "      <td>49.78917</td>\n",
       "      <td>41.50460</td>\n",
       "    </tr>\n",
       "    <tr>\n",
       "      <th>45715</th>\n",
       "      <td>Zulu Queen</td>\n",
       "      <td>30414</td>\n",
       "      <td>Valid</td>\n",
       "      <td>L3.7</td>\n",
       "      <td>200.0</td>\n",
       "      <td>Found</td>\n",
       "      <td>1976.0</td>\n",
       "      <td>GeoPosition[{33.98333, -115.68333}]</td>\n",
       "      <td>33.98333</td>\n",
       "      <td>-115.68333</td>\n",
       "    </tr>\n",
       "  </tbody>\n",
       "</table>\n",
       "<p>45716 rows × 10 columns</p>\n",
       "</div>"
      ],
      "text/plain": [
       "             Name     ID NameType        Classification      Mass   Fall  \\\n",
       "0          Aachen      1    Valid                    L5      21.0   Fell   \n",
       "1          Aarhus      2    Valid                    H6     720.0   Fell   \n",
       "2            Abee      6    Valid                   EH4  107000.0   Fell   \n",
       "3        Acapulco     10    Valid           Acapulcoite    1914.0   Fell   \n",
       "4         Achiras    370    Valid                    L6     780.0   Fell   \n",
       "...           ...    ...      ...                   ...       ...    ...   \n",
       "45711  Zillah 002  31356    Valid               Eucrite     172.0  Found   \n",
       "45712      Zinder  30409    Valid  Pallasite, ungrouped      46.0  Found   \n",
       "45713        Zlin  30410    Valid                    H4       3.3  Found   \n",
       "45714   Zubkovsky  31357    Valid                    L6    2167.0  Found   \n",
       "45715  Zulu Queen  30414    Valid                  L3.7     200.0  Found   \n",
       "\n",
       "         Year                          Coordinates         X          Y  \n",
       "0      1880.0       GeoPosition[{50.775, 6.08333}]  50.77500    6.08333  \n",
       "1      1951.0    GeoPosition[{56.18333, 10.23333}]  56.18333   10.23333  \n",
       "2      1952.0       GeoPosition[{54.21667, -113.}]  54.21667 -113.00000  \n",
       "3      1976.0       GeoPosition[{16.88333, -99.9}]  16.88333  -99.90000  \n",
       "4      1902.0     GeoPosition[{-33.16667, -64.95}] -33.16667  -64.95000  \n",
       "...       ...                                  ...       ...        ...  \n",
       "45711  1990.0       GeoPosition[{29.037, 17.0185}]  29.03700   17.01850  \n",
       "45712  1999.0     GeoPosition[{13.78333, 8.96667}]  13.78333    8.96667  \n",
       "45713  1939.0       GeoPosition[{49.25, 17.66667}]  49.25000   17.66667  \n",
       "45714  2003.0     GeoPosition[{49.78917, 41.5046}]  49.78917   41.50460  \n",
       "45715  1976.0  GeoPosition[{33.98333, -115.68333}]  33.98333 -115.68333  \n",
       "\n",
       "[45716 rows x 10 columns]"
      ]
     },
     "execution_count": 15,
     "metadata": {},
     "output_type": "execute_result"
    }
   ],
   "source": [
    "meteorites"
   ]
  },
  {
   "cell_type": "markdown",
   "metadata": {},
   "source": [
    "## Missing values"
   ]
  },
  {
   "cell_type": "code",
   "execution_count": 16,
   "metadata": {},
   "outputs": [
    {
     "data": {
      "text/plain": [
       "Name              0.000000\n",
       "ID                0.000000\n",
       "NameType          0.000000\n",
       "Classification    0.000000\n",
       "Mass              0.002866\n",
       "Fall              0.000000\n",
       "Year              0.006387\n",
       "Coordinates       0.000000\n",
       "X                 0.295936\n",
       "Y                 0.295936\n",
       "dtype: float64"
      ]
     },
     "execution_count": 16,
     "metadata": {},
     "output_type": "execute_result"
    }
   ],
   "source": [
    "meteorites.isnull().mean()"
   ]
  },
  {
   "cell_type": "markdown",
   "metadata": {},
   "source": [
    "After cleaning, some columns have a small percentage of missing values: `Mass` (0.29%) and `Year` (0.64%), but columns `X` and `Y` have almost 30% missing."
   ]
  },
  {
   "cell_type": "markdown",
   "metadata": {},
   "source": [
    "#### Mass column\n",
    "\n",
    "To drop the missing values:"
   ]
  },
  {
   "cell_type": "code",
   "execution_count": 17,
   "metadata": {},
   "outputs": [],
   "source": [
    "meteorites_cleaned = meteorites\n",
    "meteorites_cleaned = meteorites_cleaned.dropna(subset=['Mass'])"
   ]
  },
  {
   "cell_type": "code",
   "execution_count": 18,
   "metadata": {},
   "outputs": [
    {
     "data": {
      "text/plain": [
       "0"
      ]
     },
     "execution_count": 18,
     "metadata": {},
     "output_type": "execute_result"
    }
   ],
   "source": [
    "meteorites_cleaned['Mass'].isnull().sum()"
   ]
  },
  {
   "cell_type": "markdown",
   "metadata": {},
   "source": [
    "Let's check the minimum value of mass:"
   ]
  },
  {
   "cell_type": "code",
   "execution_count": 19,
   "metadata": {},
   "outputs": [
    {
     "data": {
      "text/plain": [
       "0.0"
      ]
     },
     "execution_count": 19,
     "metadata": {},
     "output_type": "execute_result"
    }
   ],
   "source": [
    "meteorites['Mass'].min()"
   ]
  },
  {
   "cell_type": "code",
   "execution_count": 20,
   "metadata": {},
   "outputs": [
    {
     "data": {
      "text/html": [
       "<div>\n",
       "<style scoped>\n",
       "    .dataframe tbody tr th:only-of-type {\n",
       "        vertical-align: middle;\n",
       "    }\n",
       "\n",
       "    .dataframe tbody tr th {\n",
       "        vertical-align: top;\n",
       "    }\n",
       "\n",
       "    .dataframe thead th {\n",
       "        text-align: right;\n",
       "    }\n",
       "</style>\n",
       "<table border=\"1\" class=\"dataframe\">\n",
       "  <thead>\n",
       "    <tr style=\"text-align: right;\">\n",
       "      <th></th>\n",
       "      <th>Name</th>\n",
       "      <th>ID</th>\n",
       "      <th>NameType</th>\n",
       "      <th>Classification</th>\n",
       "      <th>Mass</th>\n",
       "      <th>Fall</th>\n",
       "      <th>Year</th>\n",
       "      <th>Coordinates</th>\n",
       "      <th>X</th>\n",
       "      <th>Y</th>\n",
       "    </tr>\n",
       "  </thead>\n",
       "  <tbody>\n",
       "    <tr>\n",
       "      <th>12640</th>\n",
       "      <td>Graves Nunataks 06102</td>\n",
       "      <td>52859</td>\n",
       "      <td>Relict</td>\n",
       "      <td>Relict iron</td>\n",
       "      <td>0.0</td>\n",
       "      <td>Found</td>\n",
       "      <td>1979.0</td>\n",
       "      <td>GeoPosition[{-12.26333, 136.83833}]</td>\n",
       "      <td>-12.26333</td>\n",
       "      <td>136.83833</td>\n",
       "    </tr>\n",
       "    <tr>\n",
       "      <th>25557</th>\n",
       "      <td>Miller Range 090484</td>\n",
       "      <td>55953</td>\n",
       "      <td>Valid</td>\n",
       "      <td>CO3</td>\n",
       "      <td>0.0</td>\n",
       "      <td>Found</td>\n",
       "      <td>2009.0</td>\n",
       "      <td>Missing[\"NotAvailable\"]</td>\n",
       "      <td>NaN</td>\n",
       "      <td>NaN</td>\n",
       "    </tr>\n",
       "    <tr>\n",
       "      <th>31061</th>\n",
       "      <td>Österplana 049</td>\n",
       "      <td>56147</td>\n",
       "      <td>Relict</td>\n",
       "      <td>Relict OC</td>\n",
       "      <td>0.0</td>\n",
       "      <td>Found</td>\n",
       "      <td>2004.0</td>\n",
       "      <td>GeoPosition[{58.58333, 13.43333}]</td>\n",
       "      <td>58.58333</td>\n",
       "      <td>13.43333</td>\n",
       "    </tr>\n",
       "    <tr>\n",
       "      <th>31062</th>\n",
       "      <td>Österplana 050</td>\n",
       "      <td>56148</td>\n",
       "      <td>Relict</td>\n",
       "      <td>Relict OC</td>\n",
       "      <td>0.0</td>\n",
       "      <td>Found</td>\n",
       "      <td>2012.0</td>\n",
       "      <td>GeoPosition[{58.58333, 13.43333}]</td>\n",
       "      <td>58.58333</td>\n",
       "      <td>13.43333</td>\n",
       "    </tr>\n",
       "    <tr>\n",
       "      <th>31063</th>\n",
       "      <td>Österplana 051</td>\n",
       "      <td>56149</td>\n",
       "      <td>Relict</td>\n",
       "      <td>Relict OC</td>\n",
       "      <td>0.0</td>\n",
       "      <td>Found</td>\n",
       "      <td>2003.0</td>\n",
       "      <td>GeoPosition[{58.58333, 13.43333}]</td>\n",
       "      <td>58.58333</td>\n",
       "      <td>13.43333</td>\n",
       "    </tr>\n",
       "    <tr>\n",
       "      <th>31064</th>\n",
       "      <td>Österplana 052</td>\n",
       "      <td>56150</td>\n",
       "      <td>Relict</td>\n",
       "      <td>Relict OC</td>\n",
       "      <td>0.0</td>\n",
       "      <td>Found</td>\n",
       "      <td>2006.0</td>\n",
       "      <td>GeoPosition[{58.58333, 13.43333}]</td>\n",
       "      <td>58.58333</td>\n",
       "      <td>13.43333</td>\n",
       "    </tr>\n",
       "    <tr>\n",
       "      <th>31065</th>\n",
       "      <td>Österplana 053</td>\n",
       "      <td>56151</td>\n",
       "      <td>Relict</td>\n",
       "      <td>Relict OC</td>\n",
       "      <td>0.0</td>\n",
       "      <td>Found</td>\n",
       "      <td>2006.0</td>\n",
       "      <td>GeoPosition[{58.58333, 13.43333}]</td>\n",
       "      <td>58.58333</td>\n",
       "      <td>13.43333</td>\n",
       "    </tr>\n",
       "    <tr>\n",
       "      <th>31066</th>\n",
       "      <td>Österplana 054</td>\n",
       "      <td>56152</td>\n",
       "      <td>Relict</td>\n",
       "      <td>Relict OC</td>\n",
       "      <td>0.0</td>\n",
       "      <td>Found</td>\n",
       "      <td>2002.0</td>\n",
       "      <td>GeoPosition[{58.58333, 13.43333}]</td>\n",
       "      <td>58.58333</td>\n",
       "      <td>13.43333</td>\n",
       "    </tr>\n",
       "    <tr>\n",
       "      <th>31067</th>\n",
       "      <td>Österplana 055</td>\n",
       "      <td>56153</td>\n",
       "      <td>Relict</td>\n",
       "      <td>Relict OC</td>\n",
       "      <td>0.0</td>\n",
       "      <td>Found</td>\n",
       "      <td>2005.0</td>\n",
       "      <td>GeoPosition[{58.58333, 13.43333}]</td>\n",
       "      <td>58.58333</td>\n",
       "      <td>13.43333</td>\n",
       "    </tr>\n",
       "    <tr>\n",
       "      <th>31068</th>\n",
       "      <td>Österplana 056</td>\n",
       "      <td>56154</td>\n",
       "      <td>Relict</td>\n",
       "      <td>Relict OC</td>\n",
       "      <td>0.0</td>\n",
       "      <td>Found</td>\n",
       "      <td>2008.0</td>\n",
       "      <td>GeoPosition[{58.58333, 13.43333}]</td>\n",
       "      <td>58.58333</td>\n",
       "      <td>13.43333</td>\n",
       "    </tr>\n",
       "    <tr>\n",
       "      <th>31069</th>\n",
       "      <td>Österplana 057</td>\n",
       "      <td>56155</td>\n",
       "      <td>Relict</td>\n",
       "      <td>Relict OC</td>\n",
       "      <td>0.0</td>\n",
       "      <td>Found</td>\n",
       "      <td>2008.0</td>\n",
       "      <td>GeoPosition[{58.58333, 13.43333}]</td>\n",
       "      <td>58.58333</td>\n",
       "      <td>13.43333</td>\n",
       "    </tr>\n",
       "    <tr>\n",
       "      <th>31070</th>\n",
       "      <td>Österplana 058</td>\n",
       "      <td>56156</td>\n",
       "      <td>Relict</td>\n",
       "      <td>Relict OC</td>\n",
       "      <td>0.0</td>\n",
       "      <td>Found</td>\n",
       "      <td>2009.0</td>\n",
       "      <td>GeoPosition[{58.58333, 13.43333}]</td>\n",
       "      <td>58.58333</td>\n",
       "      <td>13.43333</td>\n",
       "    </tr>\n",
       "    <tr>\n",
       "      <th>31071</th>\n",
       "      <td>Österplana 059</td>\n",
       "      <td>56157</td>\n",
       "      <td>Relict</td>\n",
       "      <td>Relict OC</td>\n",
       "      <td>0.0</td>\n",
       "      <td>Found</td>\n",
       "      <td>2009.0</td>\n",
       "      <td>GeoPosition[{58.58333, 13.43333}]</td>\n",
       "      <td>58.58333</td>\n",
       "      <td>13.43333</td>\n",
       "    </tr>\n",
       "    <tr>\n",
       "      <th>31072</th>\n",
       "      <td>Österplana 060</td>\n",
       "      <td>56158</td>\n",
       "      <td>Relict</td>\n",
       "      <td>Relict OC</td>\n",
       "      <td>0.0</td>\n",
       "      <td>Found</td>\n",
       "      <td>2009.0</td>\n",
       "      <td>GeoPosition[{58.58333, 13.43333}]</td>\n",
       "      <td>58.58333</td>\n",
       "      <td>13.43333</td>\n",
       "    </tr>\n",
       "    <tr>\n",
       "      <th>31073</th>\n",
       "      <td>Österplana 061</td>\n",
       "      <td>56159</td>\n",
       "      <td>Relict</td>\n",
       "      <td>Relict OC</td>\n",
       "      <td>0.0</td>\n",
       "      <td>Found</td>\n",
       "      <td>2009.0</td>\n",
       "      <td>GeoPosition[{58.58333, 13.43333}]</td>\n",
       "      <td>58.58333</td>\n",
       "      <td>13.43333</td>\n",
       "    </tr>\n",
       "    <tr>\n",
       "      <th>31074</th>\n",
       "      <td>Österplana 062</td>\n",
       "      <td>56160</td>\n",
       "      <td>Relict</td>\n",
       "      <td>Relict OC</td>\n",
       "      <td>0.0</td>\n",
       "      <td>Found</td>\n",
       "      <td>2009.0</td>\n",
       "      <td>GeoPosition[{58.58333, 13.43333}]</td>\n",
       "      <td>58.58333</td>\n",
       "      <td>13.43333</td>\n",
       "    </tr>\n",
       "    <tr>\n",
       "      <th>31075</th>\n",
       "      <td>Österplana 063</td>\n",
       "      <td>56161</td>\n",
       "      <td>Relict</td>\n",
       "      <td>Relict OC</td>\n",
       "      <td>0.0</td>\n",
       "      <td>Found</td>\n",
       "      <td>2010.0</td>\n",
       "      <td>GeoPosition[{58.58333, 13.43333}]</td>\n",
       "      <td>58.58333</td>\n",
       "      <td>13.43333</td>\n",
       "    </tr>\n",
       "    <tr>\n",
       "      <th>31076</th>\n",
       "      <td>Österplana 064</td>\n",
       "      <td>56162</td>\n",
       "      <td>Relict</td>\n",
       "      <td>Relict OC</td>\n",
       "      <td>0.0</td>\n",
       "      <td>Found</td>\n",
       "      <td>2010.0</td>\n",
       "      <td>GeoPosition[{58.58333, 13.43333}]</td>\n",
       "      <td>58.58333</td>\n",
       "      <td>13.43333</td>\n",
       "    </tr>\n",
       "    <tr>\n",
       "      <th>31077</th>\n",
       "      <td>Otchinjau</td>\n",
       "      <td>56163</td>\n",
       "      <td>Relict</td>\n",
       "      <td>Relict OC</td>\n",
       "      <td>0.0</td>\n",
       "      <td>Found</td>\n",
       "      <td>2011.0</td>\n",
       "      <td>GeoPosition[{58.58333, 13.43333}]</td>\n",
       "      <td>58.58333</td>\n",
       "      <td>13.43333</td>\n",
       "    </tr>\n",
       "  </tbody>\n",
       "</table>\n",
       "</div>"
      ],
      "text/plain": [
       "                        Name     ID NameType Classification  Mass   Fall  \\\n",
       "12640  Graves Nunataks 06102  52859   Relict    Relict iron   0.0  Found   \n",
       "25557    Miller Range 090484  55953    Valid            CO3   0.0  Found   \n",
       "31061         Österplana 049  56147   Relict      Relict OC   0.0  Found   \n",
       "31062         Österplana 050  56148   Relict      Relict OC   0.0  Found   \n",
       "31063         Österplana 051  56149   Relict      Relict OC   0.0  Found   \n",
       "31064         Österplana 052  56150   Relict      Relict OC   0.0  Found   \n",
       "31065         Österplana 053  56151   Relict      Relict OC   0.0  Found   \n",
       "31066         Österplana 054  56152   Relict      Relict OC   0.0  Found   \n",
       "31067         Österplana 055  56153   Relict      Relict OC   0.0  Found   \n",
       "31068         Österplana 056  56154   Relict      Relict OC   0.0  Found   \n",
       "31069         Österplana 057  56155   Relict      Relict OC   0.0  Found   \n",
       "31070         Österplana 058  56156   Relict      Relict OC   0.0  Found   \n",
       "31071         Österplana 059  56157   Relict      Relict OC   0.0  Found   \n",
       "31072         Österplana 060  56158   Relict      Relict OC   0.0  Found   \n",
       "31073         Österplana 061  56159   Relict      Relict OC   0.0  Found   \n",
       "31074         Österplana 062  56160   Relict      Relict OC   0.0  Found   \n",
       "31075         Österplana 063  56161   Relict      Relict OC   0.0  Found   \n",
       "31076         Österplana 064  56162   Relict      Relict OC   0.0  Found   \n",
       "31077              Otchinjau  56163   Relict      Relict OC   0.0  Found   \n",
       "\n",
       "         Year                          Coordinates         X          Y  \n",
       "12640  1979.0  GeoPosition[{-12.26333, 136.83833}] -12.26333  136.83833  \n",
       "25557  2009.0              Missing[\"NotAvailable\"]       NaN        NaN  \n",
       "31061  2004.0    GeoPosition[{58.58333, 13.43333}]  58.58333   13.43333  \n",
       "31062  2012.0    GeoPosition[{58.58333, 13.43333}]  58.58333   13.43333  \n",
       "31063  2003.0    GeoPosition[{58.58333, 13.43333}]  58.58333   13.43333  \n",
       "31064  2006.0    GeoPosition[{58.58333, 13.43333}]  58.58333   13.43333  \n",
       "31065  2006.0    GeoPosition[{58.58333, 13.43333}]  58.58333   13.43333  \n",
       "31066  2002.0    GeoPosition[{58.58333, 13.43333}]  58.58333   13.43333  \n",
       "31067  2005.0    GeoPosition[{58.58333, 13.43333}]  58.58333   13.43333  \n",
       "31068  2008.0    GeoPosition[{58.58333, 13.43333}]  58.58333   13.43333  \n",
       "31069  2008.0    GeoPosition[{58.58333, 13.43333}]  58.58333   13.43333  \n",
       "31070  2009.0    GeoPosition[{58.58333, 13.43333}]  58.58333   13.43333  \n",
       "31071  2009.0    GeoPosition[{58.58333, 13.43333}]  58.58333   13.43333  \n",
       "31072  2009.0    GeoPosition[{58.58333, 13.43333}]  58.58333   13.43333  \n",
       "31073  2009.0    GeoPosition[{58.58333, 13.43333}]  58.58333   13.43333  \n",
       "31074  2009.0    GeoPosition[{58.58333, 13.43333}]  58.58333   13.43333  \n",
       "31075  2010.0    GeoPosition[{58.58333, 13.43333}]  58.58333   13.43333  \n",
       "31076  2010.0    GeoPosition[{58.58333, 13.43333}]  58.58333   13.43333  \n",
       "31077  2011.0    GeoPosition[{58.58333, 13.43333}]  58.58333   13.43333  "
      ]
     },
     "execution_count": 20,
     "metadata": {},
     "output_type": "execute_result"
    }
   ],
   "source": [
    "meteorites[meteorites['Mass']==0]"
   ]
  },
  {
   "cell_type": "code",
   "execution_count": 21,
   "metadata": {},
   "outputs": [
    {
     "data": {
      "text/plain": [
       "(45585, 10)"
      ]
     },
     "execution_count": 21,
     "metadata": {},
     "output_type": "execute_result"
    }
   ],
   "source": [
    "meteorites_cleaned.shape"
   ]
  },
  {
   "cell_type": "code",
   "execution_count": 22,
   "metadata": {},
   "outputs": [
    {
     "data": {
      "text/plain": [
       "(45566, 10)"
      ]
     },
     "execution_count": 22,
     "metadata": {},
     "output_type": "execute_result"
    }
   ],
   "source": [
    "meteorites_cleaned = meteorites_cleaned[meteorites_cleaned['Mass'] != 0.0]\n",
    "meteorites_cleaned.shape"
   ]
  },
  {
   "cell_type": "markdown",
   "metadata": {},
   "source": [
    "#### Year column"
   ]
  },
  {
   "cell_type": "code",
   "execution_count": 23,
   "metadata": {},
   "outputs": [
    {
     "data": {
      "text/plain": [
       "(45290, 10)"
      ]
     },
     "execution_count": 23,
     "metadata": {},
     "output_type": "execute_result"
    }
   ],
   "source": [
    "meteorites_cleaned = meteorites_cleaned.dropna(subset=['Year'])\n",
    "meteorites_cleaned['Year'] = meteorites_cleaned['Year'].astype('int')\n",
    "meteorites_cleaned.shape"
   ]
  },
  {
   "cell_type": "markdown",
   "metadata": {},
   "source": [
    "#### Latitude and Longitude"
   ]
  },
  {
   "cell_type": "code",
   "execution_count": 24,
   "metadata": {},
   "outputs": [
    {
     "data": {
      "text/plain": [
       "(31911, 10)"
      ]
     },
     "execution_count": 24,
     "metadata": {},
     "output_type": "execute_result"
    }
   ],
   "source": [
    "meteorites_cleaned_latlong = meteorites_cleaned.dropna(subset=['X', 'Y'])\n",
    "meteorites_cleaned_latlong.shape"
   ]
  },
  {
   "cell_type": "markdown",
   "metadata": {},
   "source": [
    "## Interesting statistics"
   ]
  },
  {
   "cell_type": "markdown",
   "metadata": {},
   "source": [
    "### Mass"
   ]
  },
  {
   "cell_type": "code",
   "execution_count": 25,
   "metadata": {},
   "outputs": [
    {
     "name": "stdout",
     "output_type": "stream",
     "text": [
      "In total 603.3 tonnes of recorded and weighed metorite in the database has fallen on Earth.\n",
      "Mass of the heaviest meteorite in the database is 60.0 tonnes.\n",
      "Mass of the 2 lightest meteorites in the database is 0.01 grams.\n"
     ]
    }
   ],
   "source": [
    "print(\"In total\", round(meteorites_cleaned['Mass'].sum()/1000000, 2), \"tonnes of recorded and weighed metorite in the database has fallen on Earth.\")\n",
    "print(\"Mass of the heaviest meteorite in the database is\", round(meteorites_cleaned['Mass'].max()/1000000, 2), \"tonnes.\")\n",
    "print(\"Mass of the\",(meteorites_cleaned['Mass'] == meteorites_cleaned['Mass'].min()).sum(), \"lightest meteorites in the database is\", meteorites_cleaned['Mass'].min(), \"grams.\")"
   ]
  },
  {
   "cell_type": "markdown",
   "metadata": {},
   "source": [
    "Since the values of meteorite mass range from 10 miligrams up to 60 tonnes, to plot the distribution we'll use logarithmic scale:"
   ]
  },
  {
   "cell_type": "code",
   "execution_count": 26,
   "metadata": {},
   "outputs": [
    {
     "data": {
      "text/plain": [
       "[<matplotlib.axis.XTick at 0x207bd8f5a30>,\n",
       " <matplotlib.axis.XTick at 0x207bd8f5a00>,\n",
       " <matplotlib.axis.XTick at 0x207bd94feb0>,\n",
       " <matplotlib.axis.XTick at 0x207bf51d850>,\n",
       " <matplotlib.axis.XTick at 0x207bf531070>,\n",
       " <matplotlib.axis.XTick at 0x207bf531730>,\n",
       " <matplotlib.axis.XTick at 0x207bf531e80>,\n",
       " <matplotlib.axis.XTick at 0x207bf531be0>,\n",
       " <matplotlib.axis.XTick at 0x207bf51dd30>,\n",
       " <matplotlib.axis.XTick at 0x207bd934d90>,\n",
       " <matplotlib.axis.XTick at 0x207bd94f370>]"
      ]
     },
     "execution_count": 26,
     "metadata": {},
     "output_type": "execute_result"
    },
    {
     "data": {
      "image/png": "[encoded data removed]",
      "text/plain": [
       "<Figure size 432x288 with 1 Axes>"
      ]
     },
     "metadata": {
      "needs_background": "light"
     },
     "output_type": "display_data"
    }
   ],
   "source": [
    "import seaborn as sns\n",
    "import numpy as np\n",
    "\n",
    "h = sns.histplot(x=meteorites_cleaned['Mass'], log_scale=True, kde = True)\n",
    "h.set_xticks(np.logspace(-2, 8, num = 11))"
   ]
  },
  {
   "cell_type": "code",
   "execution_count": 27,
   "metadata": {},
   "outputs": [
    {
     "data": {
      "text/html": [
       "<div>\n",
       "<style scoped>\n",
       "    .dataframe tbody tr th:only-of-type {\n",
       "        vertical-align: middle;\n",
       "    }\n",
       "\n",
       "    .dataframe tbody tr th {\n",
       "        vertical-align: top;\n",
       "    }\n",
       "\n",
       "    .dataframe thead th {\n",
       "        text-align: right;\n",
       "    }\n",
       "</style>\n",
       "<table border=\"1\" class=\"dataframe\">\n",
       "  <thead>\n",
       "    <tr style=\"text-align: right;\">\n",
       "      <th></th>\n",
       "      <th>xx</th>\n",
       "      <th>yy</th>\n",
       "    </tr>\n",
       "  </thead>\n",
       "  <tbody>\n",
       "    <tr>\n",
       "      <th>66</th>\n",
       "      <td>17.498666</td>\n",
       "      <td>1422.484068</td>\n",
       "    </tr>\n",
       "  </tbody>\n",
       "</table>\n",
       "</div>"
      ],
      "text/plain": [
       "           xx           yy\n",
       "66  17.498666  1422.484068"
      ]
     },
     "execution_count": 27,
     "metadata": {},
     "output_type": "execute_result"
    }
   ],
   "source": [
    "kdeline = pd.DataFrame()\n",
    "kdeline[\"xx\"], kdeline[\"yy\"] = h.get_lines()[0].get_data()\n",
    "kdeline[kdeline[\"yy\"]==kdeline[\"yy\"].max()]"
   ]
  },
  {
   "cell_type": "markdown",
   "metadata": {},
   "source": [
    "Group with the highest count of meteorites (over 1400) has mass of around 17.5g."
   ]
  },
  {
   "cell_type": "code",
   "execution_count": 28,
   "metadata": {},
   "outputs": [
    {
     "name": "stdout",
     "output_type": "stream",
     "text": [
      "50% of mass values are under 32.17 grams.\n",
      "90% of mass values are under 1.1 kg.\n",
      "Additionaly, 90% of meteorites have mass ranging from 1.1 g to 4.0 kg.\n",
      "Additionaly, 95% of meteorites have mass ranging from 0.67 g to 13.25 kg.\n",
      "Additionaly, 99% of meteorites have mass ranging from 0.3 g to 136.0 kg.\n"
     ]
    }
   ],
   "source": [
    "print(\"50% of mass values are under\", round(meteorites_cleaned['Mass'].median(), 2), \"grams.\")\n",
    "print(\"90% of mass values are under\", round(meteorites_cleaned['Mass'].quantile(q=0.9)/1000, 2), \"kg.\")\n",
    "print(\"Additionaly, 90% of meteorites have mass ranging from\", meteorites_cleaned['Mass'].quantile(q=0.05),\"g to\", meteorites_cleaned['Mass'].quantile(q=0.95)/1000,\"kg.\")\n",
    "print(\"Additionaly, 95% of meteorites have mass ranging from\", meteorites_cleaned['Mass'].quantile(q=0.025),\"g to\", round(meteorites_cleaned['Mass'].quantile(q=0.975)/1000,2),\"kg.\")\n",
    "print(\"Additionaly, 99% of meteorites have mass ranging from\", meteorites_cleaned['Mass'].quantile(q=0.005),\"g to\", meteorites_cleaned['Mass'].quantile(q=0.995)/1000,\"kg.\") "
   ]
  },
  {
   "cell_type": "markdown",
   "metadata": {},
   "source": [
    "### Type"
   ]
  },
  {
   "cell_type": "code",
   "execution_count": 29,
   "metadata": {},
   "outputs": [
    {
     "data": {
      "text/plain": [
       "L6    8234\n",
       "H5    7102\n",
       "L5    4755\n",
       "H6    4516\n",
       "H4    4185\n",
       "Name: Classification, dtype: int64"
      ]
     },
     "execution_count": 29,
     "metadata": {},
     "output_type": "execute_result"
    }
   ],
   "source": [
    "meteorites_cleaned['Classification'].value_counts().head(5)"
   ]
  },
  {
   "cell_type": "markdown",
   "metadata": {},
   "source": [
    "Most meteorites are classified as L and H chondrites, which are most common groups of asteroids (chondrites represent over 85% of total meteorite population). \n",
    "\n",
    "The ordinary chondrites have 3 groups (as described [here](https://en.wikipedia.org/wiki/Ordinary_chondrite#Chemical_composition) and [here](http://www.meteorite.fr/en/classification/ordinarychon.htm)):\n",
    "- H chondrites (highest total iron, high metal and lower iron oxide in the silicates)\n",
    "- L chondrites (lower total iron, lower metal and higher iron oxide in the silicates)\n",
    "- LL chondrites (low total iron and Low metal and highest iron oxide in the silicates)\n",
    "\n",
    "There are also some subgroups:"
   ]
  },
  {
   "cell_type": "code",
   "execution_count": 30,
   "metadata": {},
   "outputs": [
    {
     "data": {
      "text/html": [
       "<div>\n",
       "<style scoped>\n",
       "    .dataframe tbody tr th:only-of-type {\n",
       "        vertical-align: middle;\n",
       "    }\n",
       "\n",
       "    .dataframe tbody tr th {\n",
       "        vertical-align: top;\n",
       "    }\n",
       "\n",
       "    .dataframe thead th {\n",
       "        text-align: right;\n",
       "    }\n",
       "</style>\n",
       "<table border=\"1\" class=\"dataframe\">\n",
       "  <thead>\n",
       "    <tr style=\"text-align: right;\">\n",
       "      <th></th>\n",
       "      <th>Name</th>\n",
       "      <th>ID</th>\n",
       "      <th>NameType</th>\n",
       "      <th>Classification</th>\n",
       "      <th>Mass</th>\n",
       "      <th>Fall</th>\n",
       "      <th>Year</th>\n",
       "      <th>Coordinates</th>\n",
       "      <th>X</th>\n",
       "      <th>Y</th>\n",
       "    </tr>\n",
       "  </thead>\n",
       "  <tbody>\n",
       "    <tr>\n",
       "      <th>20</th>\n",
       "      <td>Albareto</td>\n",
       "      <td>453</td>\n",
       "      <td>Valid</td>\n",
       "      <td>L/LL4</td>\n",
       "      <td>2000.00</td>\n",
       "      <td>Fell</td>\n",
       "      <td>1766</td>\n",
       "      <td>GeoPosition[{44.65, 11.01667}]</td>\n",
       "      <td>44.65000</td>\n",
       "      <td>11.01667</td>\n",
       "    </tr>\n",
       "    <tr>\n",
       "      <th>121</th>\n",
       "      <td>Bjurböle</td>\n",
       "      <td>5064</td>\n",
       "      <td>Valid</td>\n",
       "      <td>L/LL4</td>\n",
       "      <td>330000.00</td>\n",
       "      <td>Fell</td>\n",
       "      <td>1899</td>\n",
       "      <td>GeoPosition[{60.4, 25.8}]</td>\n",
       "      <td>60.40000</td>\n",
       "      <td>25.80000</td>\n",
       "    </tr>\n",
       "    <tr>\n",
       "      <th>143</th>\n",
       "      <td>Bremervörde</td>\n",
       "      <td>5135</td>\n",
       "      <td>Valid</td>\n",
       "      <td>H/L3.9</td>\n",
       "      <td>7250.00</td>\n",
       "      <td>Fell</td>\n",
       "      <td>1855</td>\n",
       "      <td>GeoPosition[{53.4, 9.1}]</td>\n",
       "      <td>53.40000</td>\n",
       "      <td>9.10000</td>\n",
       "    </tr>\n",
       "    <tr>\n",
       "      <th>157</th>\n",
       "      <td>Cabezo de Mayo</td>\n",
       "      <td>5185</td>\n",
       "      <td>Valid</td>\n",
       "      <td>L/LL6</td>\n",
       "      <td>25000.00</td>\n",
       "      <td>Fell</td>\n",
       "      <td>1870</td>\n",
       "      <td>GeoPosition[{37.98333, -1.16667}]</td>\n",
       "      <td>37.98333</td>\n",
       "      <td>-1.16667</td>\n",
       "    </tr>\n",
       "    <tr>\n",
       "      <th>160</th>\n",
       "      <td>Cali</td>\n",
       "      <td>45976</td>\n",
       "      <td>Valid</td>\n",
       "      <td>H/L4</td>\n",
       "      <td>478.00</td>\n",
       "      <td>Fell</td>\n",
       "      <td>2007</td>\n",
       "      <td>GeoPosition[{3.405, -76.51}]</td>\n",
       "      <td>3.40500</td>\n",
       "      <td>-76.51000</td>\n",
       "    </tr>\n",
       "    <tr>\n",
       "      <th>...</th>\n",
       "      <td>...</td>\n",
       "      <td>...</td>\n",
       "      <td>...</td>\n",
       "      <td>...</td>\n",
       "      <td>...</td>\n",
       "      <td>...</td>\n",
       "      <td>...</td>\n",
       "      <td>...</td>\n",
       "      <td>...</td>\n",
       "      <td>...</td>\n",
       "    </tr>\n",
       "    <tr>\n",
       "      <th>45229</th>\n",
       "      <td>Yamato 983551</td>\n",
       "      <td>40173</td>\n",
       "      <td>Valid</td>\n",
       "      <td>H/L6</td>\n",
       "      <td>6.91</td>\n",
       "      <td>Found</td>\n",
       "      <td>1998</td>\n",
       "      <td>Missing[\"NotAvailable\"]</td>\n",
       "      <td>NaN</td>\n",
       "      <td>NaN</td>\n",
       "    </tr>\n",
       "    <tr>\n",
       "      <th>45265</th>\n",
       "      <td>Yamato 983598</td>\n",
       "      <td>40220</td>\n",
       "      <td>Valid</td>\n",
       "      <td>L5/6</td>\n",
       "      <td>8.81</td>\n",
       "      <td>Found</td>\n",
       "      <td>1998</td>\n",
       "      <td>Missing[\"NotAvailable\"]</td>\n",
       "      <td>NaN</td>\n",
       "      <td>NaN</td>\n",
       "    </tr>\n",
       "    <tr>\n",
       "      <th>45289</th>\n",
       "      <td>Yamato 983629</td>\n",
       "      <td>40251</td>\n",
       "      <td>Valid</td>\n",
       "      <td>H/L6</td>\n",
       "      <td>4.46</td>\n",
       "      <td>Found</td>\n",
       "      <td>1998</td>\n",
       "      <td>Missing[\"NotAvailable\"]</td>\n",
       "      <td>NaN</td>\n",
       "      <td>NaN</td>\n",
       "    </tr>\n",
       "    <tr>\n",
       "      <th>45528</th>\n",
       "      <td>Yamato 983931</td>\n",
       "      <td>40551</td>\n",
       "      <td>Valid</td>\n",
       "      <td>H/L4</td>\n",
       "      <td>8.12</td>\n",
       "      <td>Found</td>\n",
       "      <td>1998</td>\n",
       "      <td>Missing[\"NotAvailable\"]</td>\n",
       "      <td>NaN</td>\n",
       "      <td>NaN</td>\n",
       "    </tr>\n",
       "    <tr>\n",
       "      <th>45666</th>\n",
       "      <td>Yarle Lakes 002</td>\n",
       "      <td>30354</td>\n",
       "      <td>Valid</td>\n",
       "      <td>H4/5</td>\n",
       "      <td>500.00</td>\n",
       "      <td>Found</td>\n",
       "      <td>1991</td>\n",
       "      <td>GeoPosition[{-30.36417, 131.3745}]</td>\n",
       "      <td>-30.36417</td>\n",
       "      <td>131.37450</td>\n",
       "    </tr>\n",
       "  </tbody>\n",
       "</table>\n",
       "<p>1147 rows × 10 columns</p>\n",
       "</div>"
      ],
      "text/plain": [
       "                  Name     ID NameType Classification       Mass   Fall  Year  \\\n",
       "20            Albareto    453    Valid          L/LL4    2000.00   Fell  1766   \n",
       "121           Bjurböle   5064    Valid          L/LL4  330000.00   Fell  1899   \n",
       "143        Bremervörde   5135    Valid         H/L3.9    7250.00   Fell  1855   \n",
       "157     Cabezo de Mayo   5185    Valid          L/LL6   25000.00   Fell  1870   \n",
       "160               Cali  45976    Valid           H/L4     478.00   Fell  2007   \n",
       "...                ...    ...      ...            ...        ...    ...   ...   \n",
       "45229    Yamato 983551  40173    Valid           H/L6       6.91  Found  1998   \n",
       "45265    Yamato 983598  40220    Valid           L5/6       8.81  Found  1998   \n",
       "45289    Yamato 983629  40251    Valid           H/L6       4.46  Found  1998   \n",
       "45528    Yamato 983931  40551    Valid           H/L4       8.12  Found  1998   \n",
       "45666  Yarle Lakes 002  30354    Valid           H4/5     500.00  Found  1991   \n",
       "\n",
       "                              Coordinates         X          Y  \n",
       "20         GeoPosition[{44.65, 11.01667}]  44.65000   11.01667  \n",
       "121             GeoPosition[{60.4, 25.8}]  60.40000   25.80000  \n",
       "143              GeoPosition[{53.4, 9.1}]  53.40000    9.10000  \n",
       "157     GeoPosition[{37.98333, -1.16667}]  37.98333   -1.16667  \n",
       "160          GeoPosition[{3.405, -76.51}]   3.40500  -76.51000  \n",
       "...                                   ...       ...        ...  \n",
       "45229             Missing[\"NotAvailable\"]       NaN        NaN  \n",
       "45265             Missing[\"NotAvailable\"]       NaN        NaN  \n",
       "45289             Missing[\"NotAvailable\"]       NaN        NaN  \n",
       "45528             Missing[\"NotAvailable\"]       NaN        NaN  \n",
       "45666  GeoPosition[{-30.36417, 131.3745}] -30.36417  131.37450  \n",
       "\n",
       "[1147 rows x 10 columns]"
      ]
     },
     "execution_count": 30,
     "metadata": {},
     "output_type": "execute_result"
    }
   ],
   "source": [
    "meteorites_cleaned[meteorites_cleaned['Classification'].str.contains('/')==True]"
   ]
  },
  {
   "cell_type": "markdown",
   "metadata": {},
   "source": [
    "To find rough percentages of the classes:"
   ]
  },
  {
   "cell_type": "code",
   "execution_count": 31,
   "metadata": {},
   "outputs": [
    {
     "name": "stdout",
     "output_type": "stream",
     "text": [
      "L chondrites: 34.17 %\n",
      "H chondrites: 12.96 %\n",
      "LL chondrites: 39.87 %\n",
      "Other meteorite classes: 13.0 %\n"
     ]
    }
   ],
   "source": [
    "c1 = meteorites_cleaned[meteorites_cleaned['Classification'].str.contains('^L$')==True]\n",
    "c2 = meteorites_cleaned[meteorites_cleaned['Classification'].str.contains('^L{1}[0-9]')==True]\n",
    "c3 = meteorites_cleaned[meteorites_cleaned['Classification'].str.contains('^L{2}')==True]\n",
    "c4 = meteorites_cleaned[meteorites_cleaned['Classification'].str.contains('^H')==True]\n",
    "c5 = meteorites_cleaned\n",
    "c5 = pd.concat([c1,c2,c3,c4,c5]).drop_duplicates(keep=False)\n",
    "\n",
    "print(\"L chondrites:\", round(((c1.shape[0] + c2.shape[0])/meteorites_cleaned.shape[0])*100, 2), \"%\")\n",
    "print(\"H chondrites:\", round(c3.shape[0]/meteorites_cleaned.shape[0]*100, 2), \"%\")\n",
    "print(\"LL chondrites:\", round(c4.shape[0]/meteorites_cleaned.shape[0]*100, 2), \"%\")\n",
    "print(\"Other meteorite classes:\", round((meteorites_cleaned.shape[0]-c1.shape[0]-c2.shape[0]-c3.shape[0]-c4.shape[0])/meteorites_cleaned.shape[0]*100, 2), \"%\")"
   ]
  },
  {
   "cell_type": "markdown",
   "metadata": {},
   "source": [
    "Ordinary chondrites represent approximately 87% of meteorites in the database."
   ]
  },
  {
   "cell_type": "markdown",
   "metadata": {},
   "source": [
    "### Fall"
   ]
  },
  {
   "cell_type": "code",
   "execution_count": 32,
   "metadata": {},
   "outputs": [
    {
     "data": {
      "text/plain": [
       "Found    97.578528\n",
       "Fell      2.421472\n",
       "Name: Fall, dtype: float64"
      ]
     },
     "execution_count": 32,
     "metadata": {},
     "output_type": "execute_result"
    }
   ],
   "source": [
    "meteorites['Fall'].value_counts()/meteorites['Fall'].shape[0]*100"
   ]
  },
  {
   "cell_type": "markdown",
   "metadata": {},
   "source": [
    "Only 2.42% of meteorites were discovered falling, others were found already on Earth."
   ]
  },
  {
   "cell_type": "markdown",
   "metadata": {},
   "source": [
    "### Condition"
   ]
  },
  {
   "cell_type": "code",
   "execution_count": 33,
   "metadata": {},
   "outputs": [
    {
     "data": {
      "text/plain": [
       "Valid     99.835944\n",
       "Relict     0.164056\n",
       "Name: NameType, dtype: float64"
      ]
     },
     "execution_count": 33,
     "metadata": {},
     "output_type": "execute_result"
    }
   ],
   "source": [
    "meteorites['NameType'].value_counts()/meteorites['NameType'].shape[0]*100"
   ]
  },
  {
   "cell_type": "markdown",
   "metadata": {},
   "source": [
    "Only 0.16% of meteorites were found weathered on Earth."
   ]
  },
  {
   "cell_type": "markdown",
   "metadata": {},
   "source": [
    "### Time"
   ]
  },
  {
   "cell_type": "code",
   "execution_count": 34,
   "metadata": {},
   "outputs": [
    {
     "name": "stdout",
     "output_type": "stream",
     "text": [
      "Database timeframe: from year 860 to year 2013\n"
     ]
    }
   ],
   "source": [
    "print(\"Database timeframe: from year\", meteorites_cleaned['Year'].min(), \"to year\", meteorites_cleaned['Year'].max())"
   ]
  },
  {
   "cell_type": "markdown",
   "metadata": {},
   "source": [
    "Top ten years with most obsevations:"
   ]
  },
  {
   "cell_type": "code",
   "execution_count": 35,
   "metadata": {},
   "outputs": [
    {
     "data": {
      "text/plain": [
       "2003    3322\n",
       "1979    3044\n",
       "1998    2693\n",
       "2006    2453\n",
       "1988    2296\n",
       "2002    2072\n",
       "2004    1939\n",
       "2000    1781\n",
       "1997    1691\n",
       "1999    1687\n",
       "Name: Year, dtype: int64"
      ]
     },
     "execution_count": 35,
     "metadata": {},
     "output_type": "execute_result"
    }
   ],
   "source": [
    "meteorites_cleaned['Year'].value_counts().head(10)"
   ]
  },
  {
   "cell_type": "code",
   "execution_count": 36,
   "metadata": {},
   "outputs": [
    {
     "data": {
      "text/plain": [
       "(800.0, 2100.0)"
      ]
     },
     "execution_count": 36,
     "metadata": {},
     "output_type": "execute_result"
    },
    {
     "data": {
      "image/png": "[encoded data removed]",
      "text/plain": [
       "<Figure size 432x288 with 1 Axes>"
      ]
     },
     "metadata": {
      "needs_background": "light"
     },
     "output_type": "display_data"
    }
   ],
   "source": [
    "h = sns.histplot(x=meteorites_cleaned['Year'])\n",
    "h.set_xticks(np.linspace(800, 2100, num = 14))\n",
    "h.set_xlim(left=800, right=2100)"
   ]
  },
  {
   "cell_type": "code",
   "execution_count": 37,
   "metadata": {},
   "outputs": [
    {
     "data": {
      "text/plain": [
       "(1800.0, 2050.0)"
      ]
     },
     "execution_count": 37,
     "metadata": {},
     "output_type": "execute_result"
    },
    {
     "data": {
      "image/png": "[encoded data removed]",
      "text/plain": [
       "<Figure size 432x288 with 1 Axes>"
      ]
     },
     "metadata": {
      "needs_background": "light"
     },
     "output_type": "display_data"
    }
   ],
   "source": [
    "h = sns.histplot(x=meteorites_cleaned['Year'])\n",
    "h.set_xticks(np.linspace(1800, 2050, num = 11))\n",
    "h.set_xlim(left=1800, right=2050)"
   ]
  },
  {
   "cell_type": "markdown",
   "metadata": {},
   "source": [
    "Most of the observations are from 1970s onwards."
   ]
  },
  {
   "cell_type": "code",
   "execution_count": 38,
   "metadata": {},
   "outputs": [
    {
     "name": "stdout",
     "output_type": "stream",
     "text": [
      "There are 42999 recorded meteorite landings after 1970.\n",
      "There are 2244 recorded meteorite landings from 1800 to 1970.\n",
      "There are only 47 recorded meteorite landings before 1800.\n"
     ]
    }
   ],
   "source": [
    "print(\"There are\", (meteorites_cleaned['Year']>1970).sum(), \"recorded meteorite landings after 1970.\")\n",
    "print(\"There are\", ((meteorites_cleaned['Year']>=1800) & (meteorites_cleaned['Year']<=1970)).sum(), \"recorded meteorite landings from 1800 to 1970.\")\n",
    "print(\"There are only\", (meteorites_cleaned['Year']<1800).sum(), \"recorded meteorite landings before 1800.\")"
   ]
  },
  {
   "cell_type": "markdown",
   "metadata": {},
   "source": [
    "### Location\n",
    "\n",
    "To visualize meteorites with available fall coordinates: "
   ]
  },
  {
   "cell_type": "code",
   "execution_count": 39,
   "metadata": {},
   "outputs": [
    {
     "data": {
      "image/png": "[encoded data removed]",
      "text/plain": [
       "<Figure size 1440x1440 with 1 Axes>"
      ]
     },
     "metadata": {
      "needs_background": "light"
     },
     "output_type": "display_data"
    }
   ],
   "source": [
    "import matplotlib.pyplot as plt\n",
    "import cartopy.crs as ccrs\n",
    "\n",
    "plt.figure(figsize=(20,20))\n",
    "ax = plt.axes(projection=ccrs.PlateCarree())\n",
    "ax.coastlines()\n",
    "lat = meteorites_cleaned_latlong['X'].tolist()\n",
    "long = meteorites_cleaned_latlong['Y'].tolist()\n",
    "x, y = (long, lat)\n",
    "ax.scatter(x, y, s=1)\n",
    "plt.show()"
   ]
  }
 ],
 "metadata": {
  "kernelspec": {
   "display_name": "Python 3 (ipykernel)",
   "language": "python",
   "name": "python3"
  },
  "language_info": {
   "codemirror_mode": {
    "name": "ipython",
    "version": 3
   },
   "file_extension": ".py",
   "mimetype": "text/x-python",
   "name": "python",
   "nbconvert_exporter": "python",
   "pygments_lexer": "ipython3",
   "version": "3.9.12"
  }
 },
 "nbformat": 4,
 "nbformat_minor": 4
}
