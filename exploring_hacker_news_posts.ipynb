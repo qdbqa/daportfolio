{
 "cells": [
  {
   "cell_type": "markdown",
   "metadata": {},
   "source": [
    "# Exploring Hacker News Posts\n",
    "\n",
    "The data provides submissions to popular technology site [Hacker News](https://news.ycombinator.com/),  started by the start-up incubator [Y Combinator](https://www.ycombinator.com/), where user-submitted stories (known as \"posts\") are voted and commented upon.\n",
    "\n",
    "Dataset can be found [here](https://www.kaggle.com/hacker-news/hacker-news-posts), but it has been reduced by [Dataquest](https://www.dataquest.io) from almost 300,000 rows to approximately 20,000 rows by removing all submissions that did not receive any comments, and then randomly sampling from the remaining submissions. Here are descriptions of the columns: \n",
    "- `id` - the unique identifier from Hacker News for the post\n",
    "- `title` - the title of the post\n",
    "- `url` - the URL that the posts links to, if it the post has a URL\n",
    "- `num_points` - the number of points the post acquired, calculated as the total number of upvotes minus the total number of downvotes\n",
    "- `num_comments` - the number of comments that were made on the post\n",
    "- `author` - the username of the person who submitted the post\n",
    "- `created_at` - the date and time at which the post was submitted\n",
    "\n",
    "We're interested in posts titles that begin with Ask HN or Show HN. Users submit Ask HN posts to ask the Hacker News community a specific question and Show HN posts to show the Hacker News community a project, product or something of interest.\n",
    "\n",
    "We want to compare the two types of posts find out:\n",
    "- do Ask HN or Show HN receive more comments on average?\n",
    "- do posts created at a certain time receive more comments on average?\n",
    "\n",
    "To read in and preview the data:"
   ]
  },
  {
   "cell_type": "code",
   "execution_count": 1,
   "metadata": {},
   "outputs": [],
   "source": [
    "import csv\n",
    "\n",
    "opened_file = open('hacker_news.csv')\n",
    "reader = csv.reader(opened_file)\n",
    "hn = list(reader)"
   ]
  },
  {
   "cell_type": "code",
   "execution_count": 2,
   "metadata": {},
   "outputs": [
    {
     "name": "stdout",
     "output_type": "stream",
     "text": [
      "[['id', 'title', 'url', 'num_points', 'num_comments', 'author', 'created_at'], ['12224879', 'Interactive Dynamic Video', 'http://www.interactivedynamicvideo.com/', '386', '52', 'ne0phyte', '8/4/2016 11:52'], ['10975351', 'How to Use Open Source and Shut the Fuck Up at the Same Time', 'http://hueniverse.com/2016/01/26/how-to-use-open-source-and-shut-the-fuck-up-at-the-same-time/', '39', '10', 'josep2', '1/26/2016 19:30'], ['11964716', \"Florida DJs May Face Felony for April Fools' Water Joke\", 'http://www.thewire.com/entertainment/2013/04/florida-djs-april-fools-water-joke/63798/', '2', '1', 'vezycash', '6/23/2016 22:20'], ['11919867', 'Technology ventures: From Idea to Enterprise', 'https://www.amazon.com/Technology-Ventures-Enterprise-Thomas-Byers/dp/0073523429', '3', '1', 'hswarna', '6/17/2016 0:01']]\n"
     ]
    }
   ],
   "source": [
    "print(hn[0:5])"
   ]
  },
  {
   "cell_type": "markdown",
   "metadata": {},
   "source": [
    "### Removing headers\n",
    "\n",
    "To remove the row containing the column headers:"
   ]
  },
  {
   "cell_type": "code",
   "execution_count": 3,
   "metadata": {},
   "outputs": [],
   "source": [
    "headers = hn[0]\n",
    "hn = hn[1:]"
   ]
  },
  {
   "cell_type": "code",
   "execution_count": 4,
   "metadata": {},
   "outputs": [
    {
     "name": "stdout",
     "output_type": "stream",
     "text": [
      "['id', 'title', 'url', 'num_points', 'num_comments', 'author', 'created_at']\n"
     ]
    }
   ],
   "source": [
    "print(headers)"
   ]
  },
  {
   "cell_type": "code",
   "execution_count": 5,
   "metadata": {},
   "outputs": [
    {
     "name": "stdout",
     "output_type": "stream",
     "text": [
      "[['12224879', 'Interactive Dynamic Video', 'http://www.interactivedynamicvideo.com/', '386', '52', 'ne0phyte', '8/4/2016 11:52'], ['10975351', 'How to Use Open Source and Shut the Fuck Up at the Same Time', 'http://hueniverse.com/2016/01/26/how-to-use-open-source-and-shut-the-fuck-up-at-the-same-time/', '39', '10', 'josep2', '1/26/2016 19:30'], ['11964716', \"Florida DJs May Face Felony for April Fools' Water Joke\", 'http://www.thewire.com/entertainment/2013/04/florida-djs-april-fools-water-joke/63798/', '2', '1', 'vezycash', '6/23/2016 22:20'], ['11919867', 'Technology ventures: From Idea to Enterprise', 'https://www.amazon.com/Technology-Ventures-Enterprise-Thomas-Byers/dp/0073523429', '3', '1', 'hswarna', '6/17/2016 0:01'], ['10301696', 'Note by Note: The Making of Steinway L1037 (2007)', 'http://www.nytimes.com/2007/11/07/movies/07stein.html?_r=0', '8', '2', 'walterbell', '9/30/2015 4:12']]\n"
     ]
    }
   ],
   "source": [
    "print(hn[0:5])"
   ]
  },
  {
   "cell_type": "markdown",
   "metadata": {},
   "source": [
    "### Extracting Ask HN and Show HN posts\n",
    "\n",
    "To find out how many posts start with Ask HN and Show HN:"
   ]
  },
  {
   "cell_type": "code",
   "execution_count": 6,
   "metadata": {},
   "outputs": [],
   "source": [
    "ask_posts = []\n",
    "show_posts = []\n",
    "other_posts = []\n",
    "\n",
    "for row in hn:\n",
    "    title = row[1]\n",
    "    title_lower = title.lower()  \n",
    "    if title_lower.startswith('ask hn'):\n",
    "        ask_posts.append(row)\n",
    "    elif title_lower.startswith('show hn'):\n",
    "        show_posts.append(row)\n",
    "    else:\n",
    "        other_posts.append(row)"
   ]
  },
  {
   "cell_type": "code",
   "execution_count": 7,
   "metadata": {},
   "outputs": [
    {
     "name": "stdout",
     "output_type": "stream",
     "text": [
      "1744\n"
     ]
    }
   ],
   "source": [
    "print(len(ask_posts))"
   ]
  },
  {
   "cell_type": "code",
   "execution_count": 8,
   "metadata": {},
   "outputs": [
    {
     "name": "stdout",
     "output_type": "stream",
     "text": [
      "1162\n"
     ]
    }
   ],
   "source": [
    "print(len(show_posts))"
   ]
  },
  {
   "cell_type": "code",
   "execution_count": 9,
   "metadata": {},
   "outputs": [
    {
     "name": "stdout",
     "output_type": "stream",
     "text": [
      "17194\n"
     ]
    }
   ],
   "source": [
    "print(len(other_posts))"
   ]
  },
  {
   "cell_type": "markdown",
   "metadata": {},
   "source": [
    "There are 1744 posts that start with Ask HN, 1162 post that start with Show HN and 17194 other posts.\n",
    "\n",
    "To check, let's print out first five rows of the `ask_posts` list and first five rows of the `show_posts` list: "
   ]
  },
  {
   "cell_type": "code",
   "execution_count": 10,
   "metadata": {},
   "outputs": [
    {
     "name": "stdout",
     "output_type": "stream",
     "text": [
      "[['12296411', 'Ask HN: How to improve my personal website?', '', '2', '6', 'ahmedbaracat', '8/16/2016 9:55'], ['10610020', 'Ask HN: Am I the only one outraged by Twitter shutting down share counts?', '', '28', '29', 'tkfx', '11/22/2015 13:43'], ['11610310', 'Ask HN: Aby recent changes to CSS that broke mobile?', '', '1', '1', 'polskibus', '5/2/2016 10:14'], ['12210105', 'Ask HN: Looking for Employee #3 How do I do it?', '', '1', '3', 'sph130', '8/2/2016 14:20'], ['10394168', 'Ask HN: Someone offered to buy my browser extension from me. What now?', '', '28', '17', 'roykolak', '10/15/2015 16:38']]\n"
     ]
    }
   ],
   "source": [
    "print(ask_posts[0:5])"
   ]
  },
  {
   "cell_type": "code",
   "execution_count": 11,
   "metadata": {},
   "outputs": [
    {
     "name": "stdout",
     "output_type": "stream",
     "text": [
      "[['10627194', 'Show HN: Wio Link  ESP8266 Based Web of Things Hardware Development Platform', 'https://iot.seeed.cc', '26', '22', 'kfihihc', '11/25/2015 14:03'], ['10646440', 'Show HN: Something pointless I made', 'http://dn.ht/picklecat/', '747', '102', 'dhotson', '11/29/2015 22:46'], ['11590768', 'Show HN: Shanhu.io, a programming playground powered by e8vm', 'https://shanhu.io', '1', '1', 'h8liu', '4/28/2016 18:05'], ['12178806', 'Show HN: Webscope  Easy way for web developers to communicate with Clients', 'http://webscopeapp.com', '3', '3', 'fastbrick', '7/28/2016 7:11'], ['10872799', 'Show HN: GeoScreenshot  Easily test Geo-IP based web pages', 'https://www.geoscreenshot.com/', '1', '9', 'kpsychwave', '1/9/2016 20:45']]\n"
     ]
    }
   ],
   "source": [
    "print(show_posts[0:5])"
   ]
  },
  {
   "cell_type": "markdown",
   "metadata": {},
   "source": [
    "### Calculating the average number of comments for Ask HN and Show HN posts\n",
    "\n",
    "Next, we want to determine if Ask HN posts or Show HN posts receive more comments on average:"
   ]
  },
  {
   "cell_type": "code",
   "execution_count": 12,
   "metadata": {},
   "outputs": [
    {
     "name": "stdout",
     "output_type": "stream",
     "text": [
      "14.038417431192661\n"
     ]
    }
   ],
   "source": [
    "total_ask_comments = 0\n",
    "\n",
    "for row in ask_posts:\n",
    "    num_comments = row[4]\n",
    "    numcomm = int(num_comments)\n",
    "    total_ask_comments += numcomm\n",
    "\n",
    "avg_ask_comments = total_ask_comments/len(ask_posts)\n",
    "print(avg_ask_comments)"
   ]
  },
  {
   "cell_type": "code",
   "execution_count": 13,
   "metadata": {},
   "outputs": [
    {
     "name": "stdout",
     "output_type": "stream",
     "text": [
      "10.31669535283993\n"
     ]
    }
   ],
   "source": [
    "total_show_comments = 0\n",
    "\n",
    "for row in show_posts:\n",
    "    num_comments = row[4]\n",
    "    numcomm = int(num_comments)\n",
    "    total_show_comments += numcomm\n",
    "    \n",
    "avg_show_comments = total_show_comments/len(show_posts)\n",
    "print(avg_show_comments)"
   ]
  },
  {
   "cell_type": "markdown",
   "metadata": {},
   "source": [
    "As we can see from the results, Ask HN posts receive more comments on average than Show HN posts. This is probably because the users give answers to questions that Ask HN posts state. \n",
    "\n",
    "Since Ask HN posts are more likely to receive comments, we'll focus just on those in next steps.\n",
    "\n",
    "### Finding the amount of Ask HN posts and comments by hour\n",
    "\n",
    "We also want to determine if Ask HN posts created at a certain time are more likely to attract comments. We'll use the following steps:\n",
    "- calculate the amount of Ask HN posts created in each hour of the day, along with the number of comments received\n",
    "- calculate the average number of comments Ask HN posts receive by hour created"
   ]
  },
  {
   "cell_type": "code",
   "execution_count": 14,
   "metadata": {},
   "outputs": [],
   "source": [
    "import datetime as dt\n",
    "\n",
    "result_list = []\n",
    "\n",
    "for row in ask_posts:\n",
    "    created_at = row[6]\n",
    "    numcomm = int(row[4])\n",
    "    result_list.append([created_at, numcomm])\n",
    "    \n",
    "counts_by_hour = {}\n",
    "comments_by_hour =  {}\n",
    "\n",
    "for row in result_list:\n",
    "    date_str = row[0]\n",
    "    comments = row[1]\n",
    "    date_dt = dt.datetime.strptime(date_str, \"%m/%d/%Y %H:%M\")\n",
    "    hour = date_dt.strftime(\"%H\")\n",
    "    if hour not in counts_by_hour:\n",
    "        counts_by_hour[hour] = 1\n",
    "        comments_by_hour[hour] = comments\n",
    "    else:\n",
    "        counts_by_hour[hour] += 1\n",
    "        comments_by_hour[hour] += comments"
   ]
  },
  {
   "cell_type": "code",
   "execution_count": 15,
   "metadata": {},
   "outputs": [
    {
     "name": "stdout",
     "output_type": "stream",
     "text": [
      "{'09': 45, '13': 85, '10': 59, '14': 107, '16': 108, '23': 68, '12': 73, '17': 100, '15': 116, '21': 109, '20': 80, '02': 58, '18': 109, '03': 54, '05': 46, '19': 110, '01': 60, '22': 71, '08': 48, '04': 47, '00': 55, '06': 44, '07': 34, '11': 58}\n"
     ]
    }
   ],
   "source": [
    "print(counts_by_hour)"
   ]
  },
  {
   "cell_type": "code",
   "execution_count": 16,
   "metadata": {},
   "outputs": [
    {
     "name": "stdout",
     "output_type": "stream",
     "text": [
      "{'09': 251, '13': 1253, '10': 793, '14': 1416, '16': 1814, '23': 543, '12': 687, '17': 1146, '15': 4477, '21': 1745, '20': 1722, '02': 1381, '18': 1439, '03': 421, '05': 464, '19': 1188, '01': 683, '22': 479, '08': 492, '04': 337, '00': 447, '06': 397, '07': 267, '11': 641}\n"
     ]
    }
   ],
   "source": [
    "print(comments_by_hour)"
   ]
  },
  {
   "cell_type": "markdown",
   "metadata": {},
   "source": [
    "We have two dictionaries:\n",
    "- `counts_by_hour`: contains the number of ask posts created during each hour of the day\n",
    "- `comments_by_hour`: contains the corresponding number of comments ask posts created at each hour received\n",
    "\n",
    "\n",
    "### Calculating the average comment number for Ask HN posts by hour\n",
    "\n",
    "To calculate the average number of comments for Ask HN posts created during each hour of the day:"
   ]
  },
  {
   "cell_type": "code",
   "execution_count": 17,
   "metadata": {},
   "outputs": [
    {
     "name": "stdout",
     "output_type": "stream",
     "text": [
      "[['09', 5.5777777777777775], ['13', 14.741176470588234], ['10', 13.440677966101696], ['14', 13.233644859813085], ['16', 16.796296296296298], ['23', 7.985294117647059], ['12', 9.41095890410959], ['17', 11.46], ['15', 38.5948275862069], ['21', 16.009174311926607], ['20', 21.525], ['02', 23.810344827586206], ['18', 13.20183486238532], ['03', 7.796296296296297], ['05', 10.08695652173913], ['19', 10.8], ['01', 11.383333333333333], ['22', 6.746478873239437], ['08', 10.25], ['04', 7.170212765957447], ['00', 8.127272727272727], ['06', 9.022727272727273], ['07', 7.852941176470588], ['11', 11.051724137931034]]\n"
     ]
    }
   ],
   "source": [
    "avg_by_hour = []\n",
    "\n",
    "for hour in counts_by_hour:\n",
    "    avg_comm = comments_by_hour[hour]/counts_by_hour[hour]\n",
    "    avg_by_hour.append([hour, avg_comm])\n",
    "    \n",
    "print(avg_by_hour)"
   ]
  },
  {
   "cell_type": "markdown",
   "metadata": {},
   "source": [
    "This format makes it hard to identify the hours with the highest values. First to sort the list of lists:"
   ]
  },
  {
   "cell_type": "code",
   "execution_count": 18,
   "metadata": {},
   "outputs": [
    {
     "name": "stdout",
     "output_type": "stream",
     "text": [
      "[[5.5777777777777775, '09'], [14.741176470588234, '13'], [13.440677966101696, '10'], [13.233644859813085, '14'], [16.796296296296298, '16'], [7.985294117647059, '23'], [9.41095890410959, '12'], [11.46, '17'], [38.5948275862069, '15'], [16.009174311926607, '21'], [21.525, '20'], [23.810344827586206, '02'], [13.20183486238532, '18'], [7.796296296296297, '03'], [10.08695652173913, '05'], [10.8, '19'], [11.383333333333333, '01'], [6.746478873239437, '22'], [10.25, '08'], [7.170212765957447, '04'], [8.127272727272727, '00'], [9.022727272727273, '06'], [7.852941176470588, '07'], [11.051724137931034, '11']]\n"
     ]
    }
   ],
   "source": [
    "swap_avg_by_hour = []\n",
    "\n",
    "for row in avg_by_hour:\n",
    "    swap_avg_by_hour.append([row[-1], row[0]])\n",
    "\n",
    "print(swap_avg_by_hour)"
   ]
  },
  {
   "cell_type": "markdown",
   "metadata": {},
   "source": [
    "Top 5 hours for comments in Ask HN Posts:"
   ]
  },
  {
   "cell_type": "code",
   "execution_count": 19,
   "metadata": {},
   "outputs": [
    {
     "name": "stdout",
     "output_type": "stream",
     "text": [
      "15:00h: 38.59 average comments per post\n",
      "02:00h: 23.81 average comments per post\n",
      "20:00h: 21.52 average comments per post\n",
      "16:00h: 16.80 average comments per post\n",
      "21:00h: 16.01 average comments per post\n"
     ]
    }
   ],
   "source": [
    "sorted_swap = sorted(swap_avg_by_hour, reverse = True)\n",
    "\n",
    "for i in sorted_swap[0:5]:\n",
    "    string1= \"{}h: {:.2f} average comments per post\"\n",
    "    hours = dt.datetime.strptime(i[-1], '%H')\n",
    "    hours_format = hours.strftime(\"%H:%M\")\n",
    "    average = i[0]\n",
    "    print(string1.format(hours_format, average))  "
   ]
  },
  {
   "cell_type": "markdown",
   "metadata": {},
   "source": [
    "Top hour to receive comments is convincingly 15:00h (UTC -5).\n",
    "\n",
    "But, if we take all top 5 ranked hours into consideration, best times to create a post (and have a higher chance of receiving comments) are at 15-17h, 20-22h and 2-3AM in Eastern Time in the US (UTC -5)."
   ]
  },
  {
   "cell_type": "markdown",
   "metadata": {},
   "source": [
    "### Calculating the average number of points for Ask HN and Show HN posts\n",
    "\n",
    "We want to find out if Show HN or Ask HN posts receive more points on average:"
   ]
  },
  {
   "cell_type": "code",
   "execution_count": 20,
   "metadata": {},
   "outputs": [
    {
     "name": "stdout",
     "output_type": "stream",
     "text": [
      "15.061926605504587\n"
     ]
    }
   ],
   "source": [
    "total_ask_points = 0\n",
    "\n",
    "for row in ask_posts:\n",
    "    num_points = row[3]\n",
    "    numpt = int(num_points)\n",
    "    total_ask_points += numpt\n",
    "\n",
    "avg_ask_points = total_ask_points/len(ask_posts)\n",
    "print(avg_ask_points)"
   ]
  },
  {
   "cell_type": "code",
   "execution_count": 21,
   "metadata": {},
   "outputs": [
    {
     "name": "stdout",
     "output_type": "stream",
     "text": [
      "18.359518348623855\n"
     ]
    }
   ],
   "source": [
    "total_show_points = 0\n",
    "\n",
    "for row in show_posts:\n",
    "    num_points = row[3]\n",
    "    numpt = int(num_points)\n",
    "    total_show_points += numpt\n",
    "\n",
    "avg_show_points = total_show_points/len(ask_posts)\n",
    "print(avg_show_points)"
   ]
  },
  {
   "cell_type": "markdown",
   "metadata": {},
   "source": [
    "On average, Show HN post receive more points, probably because it makes sense to vote on something that is showing something new or interesting.\n",
    "\n",
    "Since Show HN Posts receive more points, it makes sense to focus on those in next steps.\n",
    "\n",
    "### Calculating the average points for Show HN posts by hour\n",
    "\n",
    "We want to determine if Show HN posts created at a certain time are more likely to receive more points, so we can use the same method as in previous steps:"
   ]
  },
  {
   "cell_type": "code",
   "execution_count": 22,
   "metadata": {},
   "outputs": [
    {
     "name": "stdout",
     "output_type": "stream",
     "text": [
      "23:00h: 42.39 average points per post\n",
      "12:00h: 41.69 average points per post\n",
      "22:00h: 40.35 average points per post\n",
      "00:00h: 37.84 average points per post\n",
      "18:00h: 36.31 average points per post\n"
     ]
    }
   ],
   "source": [
    "result_show_points = []\n",
    "\n",
    "for row in show_posts:\n",
    "    created_at = row[6]\n",
    "    numpt = int(row[3])\n",
    "    result_show_points.append([created_at, numpt])\n",
    "    \n",
    "counts_by_hour = {}\n",
    "points_by_hour =  {}\n",
    "\n",
    "for row in result_show_points:\n",
    "    date_str = row[0]\n",
    "    points = row[1]\n",
    "    date_dt = dt.datetime.strptime(date_str, \"%m/%d/%Y %H:%M\")\n",
    "    hour = date_dt.strftime(\"%H\")\n",
    "    if hour not in counts_by_hour:\n",
    "        counts_by_hour[hour] = 1\n",
    "        points_by_hour[hour] = points\n",
    "    else:\n",
    "        counts_by_hour[hour] += 1\n",
    "        points_by_hour[hour] += points\n",
    "        \n",
    "avg_points_by_hour = []\n",
    "\n",
    "for hour in counts_by_hour:\n",
    "    avg_pt = points_by_hour[hour]/counts_by_hour[hour]\n",
    "    avg_points_by_hour.append([hour, avg_pt])\n",
    "    \n",
    "swap_avg_points_by_hour = []\n",
    "\n",
    "for row in avg_points_by_hour:\n",
    "    swap_avg_points_by_hour.append([row[-1], row[0]])\n",
    "\n",
    "sorted_swap2 = sorted(swap_avg_points_by_hour, reverse = True)\n",
    "\n",
    "for i in sorted_swap2[0:5]:\n",
    "    string2 = \"{}h: {:.2f} average points per post\"\n",
    "    hours = dt.datetime.strptime(i[-1], '%H')\n",
    "    hours_format = hours.strftime(\"%H:%M\")\n",
    "    average = i[0]\n",
    "    print(string2.format(hours_format, average)) "
   ]
  },
  {
   "cell_type": "markdown",
   "metadata": {},
   "source": [
    "It seems that the average points for Show HN posts per hour are relatively close for the top 5 hours. We can check the top 10 hours:"
   ]
  },
  {
   "cell_type": "code",
   "execution_count": 23,
   "metadata": {
    "scrolled": true
   },
   "outputs": [
    {
     "name": "stdout",
     "output_type": "stream",
     "text": [
      "23:00h: 42.39 average points per post\n",
      "12:00h: 41.69 average points per post\n",
      "22:00h: 40.35 average points per post\n",
      "00:00h: 37.84 average points per post\n",
      "18:00h: 36.31 average points per post\n",
      "11:00h: 33.64 average points per post\n",
      "19:00h: 30.95 average points per post\n",
      "20:00h: 30.32 average points per post\n",
      "15:00h: 28.56 average points per post\n",
      "16:00h: 28.32 average points per post\n"
     ]
    }
   ],
   "source": [
    "for i in sorted_swap2[0:10]:\n",
    "    string2 = \"{}h: {:.2f} average points per post\"\n",
    "    hours = dt.datetime.strptime(i[-1], '%H')\n",
    "    hours_format = hours.strftime(\"%H:%M\")\n",
    "    average = i[0]\n",
    "    print(string2.format(hours_format, average)) "
   ]
  },
  {
   "cell_type": "markdown",
   "metadata": {},
   "source": [
    "Show HN posts that are created at 12-13h, 18-19h and 22-01h Eastern Time in the US (UTC -5) are likely to receive over 35 average points per post.\n",
    "\n",
    "It is also evident that the most likely hours for comments received on Ask HN posts and points received on Show HN posts are different. \n",
    "\n",
    "### Comparing average number of comments and points for other posts\n",
    "\n",
    "To find the average number of comments and points for other posts:"
   ]
  },
  {
   "cell_type": "code",
   "execution_count": 24,
   "metadata": {},
   "outputs": [
    {
     "name": "stdout",
     "output_type": "stream",
     "text": [
      "[['12224879', 'Interactive Dynamic Video', 'http://www.interactivedynamicvideo.com/', '386', '52', 'ne0phyte', '8/4/2016 11:52'], ['10975351', 'How to Use Open Source and Shut the Fuck Up at the Same Time', 'http://hueniverse.com/2016/01/26/how-to-use-open-source-and-shut-the-fuck-up-at-the-same-time/', '39', '10', 'josep2', '1/26/2016 19:30'], ['11964716', \"Florida DJs May Face Felony for April Fools' Water Joke\", 'http://www.thewire.com/entertainment/2013/04/florida-djs-april-fools-water-joke/63798/', '2', '1', 'vezycash', '6/23/2016 22:20'], ['11919867', 'Technology ventures: From Idea to Enterprise', 'https://www.amazon.com/Technology-Ventures-Enterprise-Thomas-Byers/dp/0073523429', '3', '1', 'hswarna', '6/17/2016 0:01'], ['10301696', 'Note by Note: The Making of Steinway L1037 (2007)', 'http://www.nytimes.com/2007/11/07/movies/07stein.html?_r=0', '8', '2', 'walterbell', '9/30/2015 4:12']]\n"
     ]
    }
   ],
   "source": [
    "print(other_posts[0:5])"
   ]
  },
  {
   "cell_type": "code",
   "execution_count": 25,
   "metadata": {},
   "outputs": [
    {
     "name": "stdout",
     "output_type": "stream",
     "text": [
      "26.8730371059672\n"
     ]
    }
   ],
   "source": [
    "total_other_comments = 0\n",
    "\n",
    "for row in other_posts:\n",
    "    num_comments = row[4]\n",
    "    numcomm = int(num_comments)\n",
    "    total_other_comments += numcomm\n",
    "\n",
    "avg_other_comments = total_other_comments/len(other_posts)\n",
    "print(avg_other_comments)"
   ]
  },
  {
   "cell_type": "code",
   "execution_count": 26,
   "metadata": {},
   "outputs": [
    {
     "name": "stdout",
     "output_type": "stream",
     "text": [
      "55.4067698034198\n"
     ]
    }
   ],
   "source": [
    "total_other_points = 0\n",
    "\n",
    "for row in other_posts:\n",
    "    num_points = row[3]\n",
    "    numpt = int(num_points)\n",
    "    total_other_points += numpt\n",
    "\n",
    "avg_other_points = total_other_points/len(other_posts)\n",
    "print(avg_other_points)"
   ]
  },
  {
   "cell_type": "markdown",
   "metadata": {},
   "source": [
    "To compare the results for Ask HN, Show HN and other posts, we can use a table:\n",
    "\n",
    "| Posts:  | Ask HN  | Show HN  | Other  |\n",
    "|---|---|---|---|\n",
    "| Average Comments  | 14.04  |10.32   |26.87   |\n",
    "| Average Points  |  15.06 | 18.36  |55.41   |\n",
    "\n",
    "Interestingly, number of average comments and points for other posts is approximately 2-3 times higher than for Ask HN or Show HN posts. This could be an interesting topic for further analysis."
   ]
  }
 ],
 "metadata": {
  "kernelspec": {
   "display_name": "Python 3 (ipykernel)",
   "language": "python",
   "name": "python3"
  },
  "language_info": {
   "codemirror_mode": {
    "name": "ipython",
    "version": 3
   },
   "file_extension": ".py",
   "mimetype": "text/x-python",
   "name": "python",
   "nbconvert_exporter": "python",
   "pygments_lexer": "ipython3",
   "version": "3.9.12"
  }
 },
 "nbformat": 4,
 "nbformat_minor": 4
}
